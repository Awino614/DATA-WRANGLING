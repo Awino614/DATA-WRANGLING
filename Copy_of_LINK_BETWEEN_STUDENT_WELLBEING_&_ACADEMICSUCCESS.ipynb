{
  "metadata": {
    "kernelspec": {
      "language": "python",
      "display_name": "Python 3",
      "name": "python3"
    },
    "language_info": {
      "name": "python",
      "version": "3.11.11",
      "mimetype": "text/x-python",
      "codemirror_mode": {
        "name": "ipython",
        "version": 3
      },
      "pygments_lexer": "ipython3",
      "nbconvert_exporter": "python",
      "file_extension": ".py"
    },
    "kaggle": {
      "accelerator": "none",
      "dataSources": [
        {
          "sourceId": 12382528,
          "sourceType": "datasetVersion",
          "datasetId": 7807905
        }
      ],
      "dockerImageVersionId": 31040,
      "isInternetEnabled": false,
      "language": "python",
      "sourceType": "notebook",
      "isGpuEnabled": false
    },
    "colab": {
      "provenance": [],
      "include_colab_link": true
    }
  },
  "nbformat_minor": 0,
  "nbformat": 4,
  "cells": [
    {
      "cell_type": "markdown",
      "metadata": {
        "id": "view-in-github",
        "colab_type": "text"
      },
      "source": [
        "<a href=\"https://colab.research.google.com/github/Awino614/DATA-WRANGLING/blob/main/Copy_of_LINK_BETWEEN_STUDENT_WELLBEING_%26_ACADEMICSUCCESS.ipynb\" target=\"_parent\"><img src=\"https://colab.research.google.com/assets/colab-badge.svg\" alt=\"Open In Colab\"/></a>"
      ]
    },
    {
      "source": [
        "# IMPORTANT: SOME KAGGLE DATA SOURCES ARE PRIVATE\n",
        "# RUN THIS CELL IN ORDER TO IMPORT YOUR KAGGLE DATA SOURCES.\n",
        "import kagglehub\n",
        "kagglehub.login()\n"
      ],
      "metadata": {
        "id": "M6TFwcHE8gPf"
      },
      "cell_type": "code",
      "outputs": [],
      "execution_count": null
    },
    {
      "source": [
        "# IMPORTANT: RUN THIS CELL IN ORDER TO IMPORT YOUR KAGGLE DATA SOURCES,\n",
        "# THEN FEEL FREE TO DELETE THIS CELL.\n",
        "# NOTE: THIS NOTEBOOK ENVIRONMENT DIFFERS FROM KAGGLE'S PYTHON\n",
        "# ENVIRONMENT SO THERE MAY BE MISSING LIBRARIES USED BY YOUR\n",
        "# NOTEBOOK.\n",
        "\n",
        "awino614_student_wellbeing_file_path = kagglehub.dataset_download('awino614/student-wellbeing-file')\n",
        "\n",
        "print('Data source import complete.')\n"
      ],
      "metadata": {
        "id": "YIPT2XCZ8gPi"
      },
      "cell_type": "code",
      "outputs": [],
      "execution_count": null
    },
    {
      "cell_type": "code",
      "source": [
        "# This Python 3 environment comes with many helpful analytics libraries installed\n",
        "# It is defined by the kaggle/python Docker image: https://github.com/kaggle/docker-python\n",
        "# For example, here's several helpful packages to load\n",
        "\n",
        "import numpy as np # linear algebra\n",
        "import pandas as pd # data processing, CSV file I/O (e.g. pd.read_csv)\n",
        "\n",
        "# Input data files are available in the read-only \"../input/\" directory\n",
        "# For example, running this (by clicking run or pressing Shift+Enter) will list all files under the input directory\n",
        "\n",
        "import os\n",
        "for dirname, _, filenames in os.walk('/kaggle/input'):\n",
        "    for filename in filenames:\n",
        "        print(os.path.join(dirname, filename))\n",
        "\n",
        "# You can write up to 20GB to the current directory (/kaggle/working/) that gets preserved as output when you create a version using \"Save & Run All\"\n",
        "# You can also write temporary files to /kaggle/temp/, but they won't be saved outside of the current session"
      ],
      "metadata": {
        "_uuid": "8f2839f25d086af736a60e9eeb907d3b93b6e0e5",
        "_cell_guid": "b1076dfc-b9ad-4769-8c92-a6c4dae69d19",
        "trusted": true,
        "execution": {
          "iopub.status.busy": "2025-07-05T16:58:05.67925Z",
          "iopub.execute_input": "2025-07-05T16:58:05.679591Z",
          "iopub.status.idle": "2025-07-05T16:58:05.71139Z",
          "shell.execute_reply.started": "2025-07-05T16:58:05.679567Z",
          "shell.execute_reply": "2025-07-05T16:58:05.710008Z"
        },
        "id": "-WXrou8H8gPj"
      },
      "outputs": [],
      "execution_count": null
    },
    {
      "cell_type": "markdown",
      "source": [
        "STEP 1:IMPORTING LIBRARIES"
      ],
      "metadata": {
        "id": "VG7WMFZC8gPk"
      }
    },
    {
      "cell_type": "code",
      "source": [
        "import pandas as pd\n",
        "import numpy as np\n",
        "import random"
      ],
      "metadata": {
        "trusted": true,
        "execution": {
          "iopub.status.busy": "2025-07-05T16:58:05.713013Z",
          "iopub.execute_input": "2025-07-05T16:58:05.713366Z",
          "iopub.status.idle": "2025-07-05T16:58:05.71897Z",
          "shell.execute_reply.started": "2025-07-05T16:58:05.713343Z",
          "shell.execute_reply": "2025-07-05T16:58:05.717445Z"
        },
        "id": "RrRxJIYM8gPl"
      },
      "outputs": [],
      "execution_count": null
    },
    {
      "cell_type": "markdown",
      "source": [
        "PREVIEW THE DATASET"
      ],
      "metadata": {
        "id": "744Hy87j8gPm"
      }
    },
    {
      "cell_type": "code",
      "source": [
        "# Preview the data\n",
        "df.head()"
      ],
      "metadata": {
        "trusted": true,
        "execution": {
          "iopub.status.busy": "2025-07-05T16:58:05.720324Z",
          "iopub.execute_input": "2025-07-05T16:58:05.720613Z",
          "iopub.status.idle": "2025-07-05T16:58:05.749408Z",
          "shell.execute_reply.started": "2025-07-05T16:58:05.720588Z",
          "shell.execute_reply": "2025-07-05T16:58:05.748008Z"
        },
        "id": "4l6RFg0J8gPm"
      },
      "outputs": [],
      "execution_count": null
    },
    {
      "cell_type": "markdown",
      "source": [
        "DATA WRANGLING"
      ],
      "metadata": {
        "id": "FXR5rb808gPn"
      }
    },
    {
      "cell_type": "code",
      "source": [
        "# Set seed for reproducibility\n",
        "np.random.seed(42)"
      ],
      "metadata": {
        "trusted": true,
        "execution": {
          "iopub.status.busy": "2025-07-05T16:58:05.751969Z",
          "iopub.execute_input": "2025-07-05T16:58:05.75247Z",
          "iopub.status.idle": "2025-07-05T16:58:05.767258Z",
          "shell.execute_reply.started": "2025-07-05T16:58:05.752442Z",
          "shell.execute_reply": "2025-07-05T16:58:05.766273Z"
        },
        "id": "vqxQX3Bc8gPn"
      },
      "outputs": [],
      "execution_count": null
    },
    {
      "cell_type": "code",
      "source": [
        "# Parameters\n",
        "n = 300\n",
        "student_ids = range(1001, 1001 + n)\n",
        "ages = np.random.randint(18, 36, size=n)\n",
        "programs = ['Data Science', 'Cybersecurity', 'Applications', 'Networking', 'Artificial Intelligence']"
      ],
      "metadata": {
        "trusted": true,
        "execution": {
          "iopub.status.busy": "2025-07-05T16:58:05.768424Z",
          "iopub.execute_input": "2025-07-05T16:58:05.768767Z",
          "iopub.status.idle": "2025-07-05T16:58:05.786051Z",
          "shell.execute_reply.started": "2025-07-05T16:58:05.768727Z",
          "shell.execute_reply": "2025-07-05T16:58:05.784962Z"
        },
        "id": "ln1Zly2s8gPo"
      },
      "outputs": [],
      "execution_count": null
    },
    {
      "cell_type": "markdown",
      "source": [
        "CHECKING FOR MISSING VALUES"
      ],
      "metadata": {
        "id": "0J2YUxRv8gPo"
      }
    },
    {
      "cell_type": "code",
      "source": [
        "df.isnull().sum()\n"
      ],
      "metadata": {
        "trusted": true,
        "execution": {
          "iopub.status.busy": "2025-07-05T16:58:05.78729Z",
          "iopub.execute_input": "2025-07-05T16:58:05.787724Z",
          "iopub.status.idle": "2025-07-05T16:58:05.810765Z",
          "shell.execute_reply.started": "2025-07-05T16:58:05.787694Z",
          "shell.execute_reply": "2025-07-05T16:58:05.809674Z"
        },
        "id": "vOTy1i5y8gPo"
      },
      "outputs": [],
      "execution_count": null
    },
    {
      "cell_type": "code",
      "source": [
        "# Gender with more missing values\n",
        "gender_choices = ['M', 'F', None]\n",
        "gender_probs = [0.45, 0.45, 0.10]\n",
        "genders = np.random.choice(gender_choices, size=n, p=gender_probs)"
      ],
      "metadata": {
        "trusted": true,
        "execution": {
          "iopub.status.busy": "2025-07-05T16:58:05.812648Z",
          "iopub.execute_input": "2025-07-05T16:58:05.812996Z",
          "iopub.status.idle": "2025-07-05T16:58:05.83035Z",
          "shell.execute_reply.started": "2025-07-05T16:58:05.812971Z",
          "shell.execute_reply": "2025-07-05T16:58:05.829123Z"
        },
        "id": "sDYXn6if8gPo"
      },
      "outputs": [],
      "execution_count": null
    },
    {
      "cell_type": "markdown",
      "source": [
        "DATA TYPES AND CONVERSION"
      ],
      "metadata": {
        "id": "g_PAbnSW8gPo"
      }
    },
    {
      "cell_type": "code",
      "source": [
        "# Convert attendance rate to float (if not already)\n",
        "df['AttendanceRate (%)'] = df['AttendanceRate (%)'].astype(float)\n"
      ],
      "metadata": {
        "trusted": true,
        "execution": {
          "iopub.status.busy": "2025-07-05T16:58:05.831734Z",
          "iopub.execute_input": "2025-07-05T16:58:05.832128Z",
          "iopub.status.idle": "2025-07-05T16:58:05.850788Z",
          "shell.execute_reply.started": "2025-07-05T16:58:05.832097Z",
          "shell.execute_reply": "2025-07-05T16:58:05.849548Z"
        },
        "id": "Z-Z40iyw8gPp"
      },
      "outputs": [],
      "execution_count": null
    },
    {
      "cell_type": "markdown",
      "source": [
        "DROP DUPLICATES"
      ],
      "metadata": {
        "id": "TswEtalm8gPp"
      }
    },
    {
      "cell_type": "code",
      "source": [
        "df.drop_duplicates(inplace=True)\n"
      ],
      "metadata": {
        "trusted": true,
        "execution": {
          "iopub.status.busy": "2025-07-05T16:58:05.851904Z",
          "iopub.execute_input": "2025-07-05T16:58:05.852202Z",
          "iopub.status.idle": "2025-07-05T16:58:05.874561Z",
          "shell.execute_reply.started": "2025-07-05T16:58:05.852179Z",
          "shell.execute_reply": "2025-07-05T16:58:05.873393Z"
        },
        "id": "3EJ5A5GW8gPp"
      },
      "outputs": [],
      "execution_count": null
    },
    {
      "cell_type": "markdown",
      "source": [
        "EXPLORATORY DATA ANALYSIS\n",
        "*SUMMARY STATISTICS*"
      ],
      "metadata": {
        "id": "jIh_5Zk38gPp"
      }
    },
    {
      "cell_type": "code",
      "source": [
        "df.describe()\n"
      ],
      "metadata": {
        "trusted": true,
        "execution": {
          "iopub.status.busy": "2025-07-05T16:58:05.87835Z",
          "iopub.execute_input": "2025-07-05T16:58:05.878675Z",
          "iopub.status.idle": "2025-07-05T16:58:05.925592Z",
          "shell.execute_reply.started": "2025-07-05T16:58:05.878654Z",
          "shell.execute_reply": "2025-07-05T16:58:05.924557Z"
        },
        "id": "MfExPrkB8gPp"
      },
      "outputs": [],
      "execution_count": null
    },
    {
      "cell_type": "code",
      "source": [
        "# Names lists\n",
        "male_names = ['Brian', 'Michael', 'David', 'James', 'Daniel', 'Robert', 'Joseph', 'John', 'Charles', 'William']\n",
        "female_names = ['Alice', 'Mary', 'Linda', 'Susan', 'Karen', 'Patricia', 'Jennifer', 'Elizabeth', 'Sarah', 'Emily']\n",
        "all_names = male_names + female_names"
      ],
      "metadata": {
        "trusted": true,
        "execution": {
          "iopub.status.busy": "2025-07-05T16:58:05.926611Z",
          "iopub.execute_input": "2025-07-05T16:58:05.926926Z",
          "iopub.status.idle": "2025-07-05T16:58:05.932607Z",
          "shell.execute_reply.started": "2025-07-05T16:58:05.926898Z",
          "shell.execute_reply": "2025-07-05T16:58:05.931301Z"
        },
        "id": "N4yUoQzy8gPp"
      },
      "outputs": [],
      "execution_count": null
    },
    {
      "cell_type": "code",
      "source": [
        "import numpy as np\n",
        "import seaborn as sns\n",
        "import matplotlib.pyplot as plt"
      ],
      "metadata": {
        "trusted": true,
        "execution": {
          "iopub.status.busy": "2025-07-05T16:58:05.933947Z",
          "iopub.execute_input": "2025-07-05T16:58:05.934294Z",
          "iopub.status.idle": "2025-07-05T16:58:05.954356Z",
          "shell.execute_reply.started": "2025-07-05T16:58:05.934265Z",
          "shell.execute_reply": "2025-07-05T16:58:05.953118Z"
        },
        "id": "AyG527U28gPp"
      },
      "outputs": [],
      "execution_count": null
    },
    {
      "cell_type": "markdown",
      "source": [
        "Gender Distribution"
      ],
      "metadata": {
        "id": "Znt3GPZa8gPp"
      }
    },
    {
      "cell_type": "code",
      "source": [
        "sns.countplot(x='Gender', data=df)\n",
        "plt.title('Gender Distribution')\n",
        "plt.show()\n"
      ],
      "metadata": {
        "trusted": true,
        "execution": {
          "iopub.status.busy": "2025-07-05T16:58:05.955359Z",
          "iopub.execute_input": "2025-07-05T16:58:05.955769Z",
          "iopub.status.idle": "2025-07-05T16:58:06.127354Z",
          "shell.execute_reply.started": "2025-07-05T16:58:05.955732Z",
          "shell.execute_reply": "2025-07-05T16:58:06.126195Z"
        },
        "id": "9gxdiaJF8gPq"
      },
      "outputs": [],
      "execution_count": null
    },
    {
      "cell_type": "markdown",
      "source": [
        " Program Popularity"
      ],
      "metadata": {
        "id": "dq5MoC2m8gPq"
      }
    },
    {
      "cell_type": "code",
      "source": [
        "sns.countplot(x='Program', data=df)\n",
        "plt.xticks(rotation=45)\n",
        "plt.title('Program Enrollment')\n",
        "plt.show()\n"
      ],
      "metadata": {
        "trusted": true,
        "execution": {
          "iopub.status.busy": "2025-07-05T16:58:06.128141Z",
          "iopub.execute_input": "2025-07-05T16:58:06.128411Z",
          "iopub.status.idle": "2025-07-05T16:58:06.307915Z",
          "shell.execute_reply.started": "2025-07-05T16:58:06.128392Z",
          "shell.execute_reply": "2025-07-05T16:58:06.307036Z"
        },
        "id": "VvMCnMSj8gPq"
      },
      "outputs": [],
      "execution_count": null
    },
    {
      "cell_type": "code",
      "source": [
        "# Assign gender-appropriate names\n",
        "names = [\n",
        "    random.choice(male_names) if gender == 'M' else\n",
        "    random.choice(female_names) if gender == 'F' else\n",
        "    random.choice(all_names)\n",
        "    for gender in genders\n",
        "]\n"
      ],
      "metadata": {
        "trusted": true,
        "execution": {
          "iopub.status.busy": "2025-07-05T16:58:06.309022Z",
          "iopub.execute_input": "2025-07-05T16:58:06.309308Z",
          "iopub.status.idle": "2025-07-05T16:58:06.314951Z",
          "shell.execute_reply.started": "2025-07-05T16:58:06.309281Z",
          "shell.execute_reply": "2025-07-05T16:58:06.313737Z"
        },
        "id": "4PWtuL7a8gPq"
      },
      "outputs": [],
      "execution_count": null
    },
    {
      "cell_type": "markdown",
      "source": [
        "GPA DISTRIBUTION"
      ],
      "metadata": {
        "id": "vppKw7SJ8gPq"
      }
    },
    {
      "cell_type": "code",
      "source": [
        "sns.histplot(df['GPA'], bins=20, kde=True)\n",
        "plt.title('GPA Distribution')\n",
        "plt.show()\n"
      ],
      "metadata": {
        "trusted": true,
        "execution": {
          "iopub.status.busy": "2025-07-05T16:58:06.316503Z",
          "iopub.execute_input": "2025-07-05T16:58:06.316834Z",
          "iopub.status.idle": "2025-07-05T16:58:06.587748Z",
          "shell.execute_reply.started": "2025-07-05T16:58:06.316807Z",
          "shell.execute_reply": "2025-07-05T16:58:06.586509Z"
        },
        "id": "tlqEdCcq8gPq"
      },
      "outputs": [],
      "execution_count": null
    },
    {
      "cell_type": "markdown",
      "source": [
        "BOXPLOT OF STUDY HOURS"
      ],
      "metadata": {
        "id": "W5fr30Wr8gPq"
      }
    },
    {
      "cell_type": "code",
      "source": [
        "sns.boxplot(x='StudyHours', data=df)\n",
        "plt.title('Study Hours Boxplot')\n",
        "plt.show()\n"
      ],
      "metadata": {
        "trusted": true,
        "execution": {
          "iopub.status.busy": "2025-07-05T16:58:06.588891Z",
          "iopub.execute_input": "2025-07-05T16:58:06.589178Z",
          "iopub.status.idle": "2025-07-05T16:58:06.715919Z",
          "shell.execute_reply.started": "2025-07-05T16:58:06.589158Z",
          "shell.execute_reply": "2025-07-05T16:58:06.714978Z"
        },
        "id": "h0FPWG0a8gPq"
      },
      "outputs": [],
      "execution_count": null
    },
    {
      "cell_type": "markdown",
      "source": [
        "Relationships & Correlation"
      ],
      "metadata": {
        "id": "1ml4UmNW8gPq"
      }
    },
    {
      "cell_type": "markdown",
      "source": [
        "CORRELATION HEAT MAP"
      ],
      "metadata": {
        "id": "VpzG6TK88gPq"
      }
    },
    {
      "cell_type": "code",
      "source": [
        "plt.figure(figsize=(12, 6))\n",
        "sns.heatmap(df.corr(numeric_only=True), annot=True, cmap='coolwarm')\n",
        "plt.title('Correlation Heatmap')\n",
        "plt.show()\n"
      ],
      "metadata": {
        "trusted": true,
        "execution": {
          "iopub.status.busy": "2025-07-05T16:58:06.716981Z",
          "iopub.execute_input": "2025-07-05T16:58:06.717272Z",
          "iopub.status.idle": "2025-07-05T16:58:07.201638Z",
          "shell.execute_reply.started": "2025-07-05T16:58:06.717252Z",
          "shell.execute_reply": "2025-07-05T16:58:07.200614Z"
        },
        "id": "9OBmiZLH8gPr"
      },
      "outputs": [],
      "execution_count": null
    },
    {
      "cell_type": "markdown",
      "source": [
        "GPA VS STUDY HOURS"
      ],
      "metadata": {
        "id": "Pw2Q4Glp8gPr"
      }
    },
    {
      "cell_type": "code",
      "source": [
        "sns.scatterplot(x='StudyHours', y='GPA', hue='Gender', data=df)\n",
        "plt.title('Study Hours vs GPA')\n",
        "plt.show()\n"
      ],
      "metadata": {
        "trusted": true,
        "execution": {
          "iopub.status.busy": "2025-07-05T16:58:07.202474Z",
          "iopub.execute_input": "2025-07-05T16:58:07.202709Z",
          "iopub.status.idle": "2025-07-05T16:58:07.453002Z",
          "shell.execute_reply.started": "2025-07-05T16:58:07.20269Z",
          "shell.execute_reply": "2025-07-05T16:58:07.452095Z"
        },
        "id": "2W25VYdu8gPr"
      },
      "outputs": [],
      "execution_count": null
    },
    {
      "cell_type": "markdown",
      "source": [
        "Mood vs Sleep"
      ],
      "metadata": {
        "id": "VQwmQHma8gPr"
      }
    },
    {
      "cell_type": "code",
      "source": [
        "sns.lineplot(x='SleepHours', y='MoodLevel', data=df)\n",
        "plt.title('Sleep Hours vs Mood Level')\n",
        "plt.show()\n"
      ],
      "metadata": {
        "trusted": true,
        "execution": {
          "iopub.status.busy": "2025-07-05T16:58:07.453877Z",
          "iopub.execute_input": "2025-07-05T16:58:07.454114Z",
          "iopub.status.idle": "2025-07-05T16:58:07.941799Z",
          "shell.execute_reply.started": "2025-07-05T16:58:07.454096Z",
          "shell.execute_reply": "2025-07-05T16:58:07.940898Z"
        },
        "id": "fQiy85Op8gPr"
      },
      "outputs": [],
      "execution_count": null
    },
    {
      "cell_type": "code",
      "source": [
        "# Generate data\n",
        "data_final = {\n",
        "    \"StudentID\": student_ids,\n",
        "    \"Name\": names,\n",
        "    \"Age\": ages,\n",
        "    \"Gender\": genders,\n",
        "    \"Program\": np.random.choice(programs, size=n),\n",
        "    \"GPA\": np.round(np.clip(np.random.normal(3.0, 0.6, size=n), 0, 4.0), 2),\n",
        "    \"StudyHours\": np.random.randint(0, 25, size=n),\n",
        "    \"SleepHours\": np.random.randint(3, 10, size=n),\n",
        "    \"ExerciseHours\": np.random.randint(0, 7, size=n),\n",
        "    \"SocialMediaHours\": np.random.randint(0, 8, size=n),\n",
        "    \"MoodLevel\": np.random.randint(1, 11, size=n),\n",
        "    \"StressLevel\": np.random.randint(1, 11, size=n),\n",
        "    \"AttendanceRate (%)\": np.round(np.random.uniform(60, 100, size=n), 2)\n",
        "}"
      ],
      "metadata": {
        "trusted": true,
        "execution": {
          "iopub.status.busy": "2025-07-05T16:58:07.942826Z",
          "iopub.execute_input": "2025-07-05T16:58:07.943078Z",
          "iopub.status.idle": "2025-07-05T16:58:07.950915Z",
          "shell.execute_reply.started": "2025-07-05T16:58:07.943055Z",
          "shell.execute_reply": "2025-07-05T16:58:07.94991Z"
        },
        "id": "xCwIku748gPr"
      },
      "outputs": [],
      "execution_count": null
    },
    {
      "cell_type": "code",
      "source": [
        "df_final = pd.DataFrame()"
      ],
      "metadata": {
        "trusted": true,
        "execution": {
          "iopub.status.busy": "2025-07-05T16:58:07.951967Z",
          "iopub.execute_input": "2025-07-05T16:58:07.952402Z",
          "iopub.status.idle": "2025-07-05T16:58:07.968448Z",
          "shell.execute_reply.started": "2025-07-05T16:58:07.952374Z",
          "shell.execute_reply": "2025-07-05T16:58:07.967427Z"
        },
        "id": "8_0j8stO8gPr"
      },
      "outputs": [],
      "execution_count": null
    },
    {
      "cell_type": "code",
      "source": [
        "# Save to CSV\n",
        "df_final.to_csv(\"/kaggle/working/student_wellbeing_final.csv\", index=False)"
      ],
      "metadata": {
        "trusted": true,
        "execution": {
          "iopub.status.busy": "2025-07-05T16:58:23.712677Z",
          "iopub.execute_input": "2025-07-05T16:58:23.712974Z",
          "iopub.status.idle": "2025-07-05T16:58:23.719069Z",
          "shell.execute_reply.started": "2025-07-05T16:58:23.712955Z",
          "shell.execute_reply": "2025-07-05T16:58:23.717868Z"
        },
        "id": "UqO9dvdl8gPv"
      },
      "outputs": [],
      "execution_count": null
    }
  ]
}