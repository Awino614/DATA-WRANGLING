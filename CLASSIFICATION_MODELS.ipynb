{
  "metadata": {
    "kernelspec": {
      "language": "python",
      "display_name": "Python 3",
      "name": "python3"
    },
    "language_info": {
      "name": "python",
      "version": "3.11.13",
      "mimetype": "text/x-python",
      "codemirror_mode": {
        "name": "ipython",
        "version": 3
      },
      "pygments_lexer": "ipython3",
      "nbconvert_exporter": "python",
      "file_extension": ".py"
    },
    "kaggle": {
      "accelerator": "none",
      "dataSources": [],
      "dockerImageVersionId": 31089,
      "isInternetEnabled": true,
      "language": "python",
      "sourceType": "notebook",
      "isGpuEnabled": false
    },
    "colab": {
      "name": "CLASSIFICATION MODELS",
      "provenance": [],
      "include_colab_link": true
    }
  },
  "nbformat_minor": 0,
  "nbformat": 4,
  "cells": [
    {
      "cell_type": "markdown",
      "metadata": {
        "id": "view-in-github",
        "colab_type": "text"
      },
      "source": [
        "<a href=\"https://colab.research.google.com/github/Awino614/DATA-WRANGLING/blob/main/CLASSIFICATION_MODELS.ipynb\" target=\"_parent\"><img src=\"https://colab.research.google.com/assets/colab-badge.svg\" alt=\"Open In Colab\"/></a>"
      ]
    },
    {
      "cell_type": "code",
      "source": [
        "# This Python 3 environment comes with many helpful analytics libraries installed\n",
        "# It is defined by the kaggle/python Docker image: https://github.com/kaggle/docker-python\n",
        "# For example, here's several helpful packages to load\n",
        "\n",
        "import numpy as np # linear algebra\n",
        "import pandas as pd # data processing, CSV file I/O (e.g. pd.read_csv)\n",
        "\n",
        "# Input data files are available in the read-only \"../input/\" directory\n",
        "# For example, running this (by clicking run or pressing Shift+Enter) will list all files under the input directory\n",
        "\n",
        "import os\n",
        "for dirname, _, filenames in os.walk('/kaggle/input'):\n",
        "    for filename in filenames:\n",
        "        print(os.path.join(dirname, filename))\n",
        "\n",
        "# You can write up to 20GB to the current directory (/kaggle/working/) that gets preserved as output when you create a version using \"Save & Run All\"\n",
        "# You can also write temporary files to /kaggle/temp/, but they won't be saved outside of the current session"
      ],
      "metadata": {
        "_uuid": "8f2839f25d086af736a60e9eeb907d3b93b6e0e5",
        "_cell_guid": "b1076dfc-b9ad-4769-8c92-a6c4dae69d19",
        "trusted": true,
        "execution": {
          "iopub.status.busy": "2025-07-08T06:11:10.108203Z",
          "iopub.execute_input": "2025-07-08T06:11:10.108513Z",
          "iopub.status.idle": "2025-07-08T06:11:10.114417Z",
          "shell.execute_reply.started": "2025-07-08T06:11:10.108489Z",
          "shell.execute_reply": "2025-07-08T06:11:10.113424Z"
        },
        "id": "C0q-_orv_pvs"
      },
      "outputs": [],
      "execution_count": null
    },
    {
      "cell_type": "markdown",
      "source": [
        "**1.IMPORT LIBRARIES AND LOAD DATASETS**\n",
        "Purpose: Load the required Python libraries and the Wine dataset from scikit-learn.\n",
        "\n",
        " Load essential libraries for data manipulation, visualization, and machine learning.\n",
        "The Wine dataset contains 13 features and a target class with 3 wine types."
      ],
      "metadata": {
        "id": "SkJl1aIc_pvt"
      }
    },
    {
      "cell_type": "code",
      "source": [
        "import pandas as pd\n",
        "import numpy as np\n",
        "import matplotlib.pyplot as plt\n",
        "import seaborn as sns\n",
        "from sklearn.datasets import load_wine\n",
        "from sklearn.model_selection import train_test_split\n",
        "from sklearn.preprocessing import StandardScaler\n",
        "from sklearn.metrics import classification_report, accuracy_score, confusion_matrix\n",
        "\n",
        "# Models\n",
        "from sklearn.linear_model import LogisticRegression\n",
        "from sklearn.tree import DecisionTreeClassifier\n",
        "from sklearn.ensemble import RandomForestClassifier\n",
        "from sklearn.neighbors import KNeighborsClassifier\n",
        "from sklearn.naive_bayes import GaussianNB\n",
        "from sklearn.svm import SVC\n",
        "\n",
        "# Load Wine dataset\n",
        "wine = load_wine()\n",
        "X = pd.DataFrame(wine.data, columns=wine.feature_names)\n",
        "y = pd.Series(wine.target, name='target')\n",
        "\n",
        "print(X.head())\n",
        "print(y.value_counts())\n"
      ],
      "metadata": {
        "trusted": true,
        "execution": {
          "iopub.status.busy": "2025-07-08T06:12:17.329057Z",
          "iopub.execute_input": "2025-07-08T06:12:17.329383Z",
          "iopub.status.idle": "2025-07-08T06:12:19.070895Z",
          "shell.execute_reply.started": "2025-07-08T06:12:17.329358Z",
          "shell.execute_reply": "2025-07-08T06:12:19.069959Z"
        },
        "id": "sufEPzSy_pvu"
      },
      "outputs": [],
      "execution_count": null
    },
    {
      "cell_type": "markdown",
      "source": [
        "**2.EXPLORATORY DATA ANALYSIS(EDA)**\n",
        "Purpose: Understand the structure of the data, look for patterns, distributions, and relationships between variables.\n",
        "\n",
        " Perform basic EDA to check feature ranges, class distribution, and correlations.\n",
        " Use plots to visually explore the dataset and identify any skew or outlier"
      ],
      "metadata": {
        "id": "32GNAef9_pvv"
      }
    },
    {
      "cell_type": "code",
      "source": [
        "# Basic statistics\n",
        "print(X.describe())\n",
        "\n",
        "# Class distribution\n",
        "sns.countplot(x=y)\n",
        "plt.title(\"Class Distribution\")\n",
        "plt.show()\n",
        "\n",
        "# Correlation heatmap\n",
        "plt.figure(figsize=(12, 8))\n",
        "sns.heatmap(X.corr(), cmap='coolwarm', annot=False)\n",
        "plt.title(\"Feature Correlation Heatmap\")\n",
        "plt.show()\n"
      ],
      "metadata": {
        "trusted": true,
        "execution": {
          "iopub.status.busy": "2025-07-08T06:16:02.0883Z",
          "iopub.execute_input": "2025-07-08T06:16:02.089492Z",
          "iopub.status.idle": "2025-07-08T06:16:02.842867Z",
          "shell.execute_reply.started": "2025-07-08T06:16:02.089453Z",
          "shell.execute_reply": "2025-07-08T06:16:02.841666Z"
        },
        "id": "fLtude62_pvv"
      },
      "outputs": [],
      "execution_count": null
    },
    {
      "cell_type": "markdown",
      "source": [
        "**3.DATA PREPARATION**\n",
        "Purpose: Prepare the data for model training by scaling features and splitting into training and test sets.\n",
        "\n",
        "Apply standardization to normalize feature scales for better model performance.\n",
        "Split the dataset into training and testing sets (70/30) to evaluate generalization."
      ],
      "metadata": {
        "id": "ManywAh-_pvv"
      }
    },
    {
      "cell_type": "code",
      "source": [
        "# Feature scaling\n",
        "scaler = StandardScaler()\n",
        "X_scaled = scaler.fit_transform(X)\n",
        "\n",
        "# Train-test split\n",
        "X_train, X_test, y_train, y_test = train_test_split(X_scaled, y, test_size=0.3, random_state=42)\n"
      ],
      "metadata": {
        "trusted": true,
        "execution": {
          "iopub.status.busy": "2025-07-08T06:23:29.764244Z",
          "iopub.execute_input": "2025-07-08T06:23:29.764613Z",
          "iopub.status.idle": "2025-07-08T06:23:29.775515Z",
          "shell.execute_reply.started": "2025-07-08T06:23:29.764558Z",
          "shell.execute_reply": "2025-07-08T06:23:29.774379Z"
        },
        "id": "tfx9lheP_pvv"
      },
      "outputs": [],
      "execution_count": null
    },
    {
      "cell_type": "markdown",
      "source": [
        "**4. Helper: Plot Confusion Matrix**\n",
        "Purpose: Create a reusable function to visualize confusion matrices for all models.\n",
        " Define a function to plot confusion matrices using seaborn heatmaps.\n",
        " Helps visually assess model performance (true vs. predicted labels)."
      ],
      "metadata": {
        "id": "O-Gxz-ic_pvv"
      }
    },
    {
      "cell_type": "code",
      "source": [
        "def plot_conf_matrix(y_true, y_pred, title):\n",
        "    cm = confusion_matrix(y_true, y_pred)\n",
        "    plt.figure(figsize=(5, 4))\n",
        "    sns.heatmap(cm, annot=True, fmt='d', cmap='Blues',\n",
        "                xticklabels=wine.target_names, yticklabels=wine.target_names)\n",
        "    plt.xlabel('Predicted')\n",
        "    plt.ylabel('Actual')\n",
        "    plt.title(f'Confusion Matrix: {title}')\n",
        "    plt.show()\n"
      ],
      "metadata": {
        "trusted": true,
        "execution": {
          "iopub.status.busy": "2025-07-08T06:28:25.724501Z",
          "iopub.execute_input": "2025-07-08T06:28:25.725392Z",
          "iopub.status.idle": "2025-07-08T06:28:25.731188Z",
          "shell.execute_reply.started": "2025-07-08T06:28:25.725355Z",
          "shell.execute_reply": "2025-07-08T06:28:25.730073Z"
        },
        "id": "9gBt2etW_pvw"
      },
      "outputs": [],
      "execution_count": null
    },
    {
      "cell_type": "markdown",
      "source": [
        " **5. Model Training & Evaluation Template**\n",
        " Purpose: Train six classification models and evaluate them using accuracy and detailed classification reports.\n",
        "\n",
        " Train each model using the training set and make predictions on the test set.\n",
        " Evaluate with accuracy, precision, recall, F1-score, and plot confusion matrices\n",
        ""
      ],
      "metadata": {
        "id": "A9e8sDAX_pvw"
      }
    },
    {
      "cell_type": "code",
      "source": [
        "# Initialize results table\n",
        "results = pd.DataFrame(columns=['Model', 'Accuracy'])\n",
        "\n",
        "# Define models\n",
        "models = {\n",
        "    \"Logistic Regression\": LogisticRegression(max_iter=1000),\n",
        "    \"Decision Tree\": DecisionTreeClassifier(),\n",
        "    \"Random Forest\": RandomForestClassifier(),\n",
        "    \"K-Nearest Neighbors\": KNeighborsClassifier(),\n",
        "    \"Naive Bayes\": GaussianNB(),\n",
        "    \"Support Vector Machine\": SVC()\n",
        "}\n",
        "\n",
        "# Train, predict, evaluate\n",
        "for name, model in models.items():\n",
        "    model.fit(X_train, y_train)\n",
        "    y_pred = model.predict(X_test)\n",
        "\n",
        "    # Accuracy\n",
        "    acc = accuracy_score(y_test, y_pred)\n",
        "    results.loc[len(results)] = [name, acc]\n",
        "\n",
        "    # Print classification report\n",
        "    print(f\"\\n🔍 {name}\")\n",
        "    print(classification_report(y_test, y_pred))\n",
        "\n",
        "    # Plot confusion matrix\n",
        "    plot_conf_matrix(y_test, y_pred, name)\n"
      ],
      "metadata": {
        "trusted": true,
        "execution": {
          "iopub.status.busy": "2025-07-08T06:32:28.685439Z",
          "iopub.execute_input": "2025-07-08T06:32:28.686439Z",
          "iopub.status.idle": "2025-07-08T06:32:30.216371Z",
          "shell.execute_reply.started": "2025-07-08T06:32:28.686408Z",
          "shell.execute_reply": "2025-07-08T06:32:30.215382Z"
        },
        "id": "gAgwuCjy_pvw"
      },
      "outputs": [],
      "execution_count": null
    },
    {
      "cell_type": "markdown",
      "source": [
        "6. **Compare Model Performance**\n",
        "   Purpose: Create a comparison table and bar plot to easily see which model performed best.\n",
        "\n",
        " Store accuracy scores for all models in a DataFrame and sort them.\n",
        "Visualize comparison to determine the most effective classifier for the Wine dataset."
      ],
      "metadata": {
        "id": "QNFD6fEs_pvx"
      }
    },
    {
      "cell_type": "code",
      "source": [
        "# Sort and display results\n",
        "results_sorted = results.sort_values(by='Accuracy', ascending=False)\n",
        "print(\"\\n✅ Model Comparison:\")\n",
        "print(results_sorted)\n",
        "\n",
        "# Plot accuracy comparison\n",
        "plt.figure(figsize=(10, 6))\n",
        "sns.barplot(data=results_sorted, x='Accuracy', y='Model', palette='viridis')\n",
        "plt.title(\"Model Accuracy Comparison\")\n",
        "plt.xlabel(\"Accuracy\")\n",
        "plt.ylabel(\"Model\")\n",
        "plt.xlim(0.8, 1.0)\n",
        "plt.grid(True)\n",
        "plt.show()\n"
      ],
      "metadata": {
        "trusted": true,
        "execution": {
          "iopub.status.busy": "2025-07-08T06:57:27.149236Z",
          "iopub.execute_input": "2025-07-08T06:57:27.149879Z",
          "iopub.status.idle": "2025-07-08T06:57:27.387065Z",
          "shell.execute_reply.started": "2025-07-08T06:57:27.149847Z",
          "shell.execute_reply": "2025-07-08T06:57:27.385649Z"
        },
        "id": "WU3hBXiZ_pvx"
      },
      "outputs": [],
      "execution_count": null
    },
    {
      "cell_type": "markdown",
      "source": [
        "**7. Final Notes**\n",
        "✅ All models are trained on the same data\n",
        "\n",
        "📊 You’re evaluating based on Accuracy, Classification Report (precision, recall, F1), and Confusion Matrix\n",
        "\n",
        "\n"
      ],
      "metadata": {
        "id": "OAEmkc11_pvx"
      }
    }
  ]
}