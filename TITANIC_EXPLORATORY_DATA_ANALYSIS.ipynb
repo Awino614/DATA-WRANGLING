{
  "metadata": {
    "kernelspec": {
      "language": "python",
      "display_name": "Python 3",
      "name": "python3"
    },
    "language_info": {
      "name": "python",
      "version": "3.11.11",
      "mimetype": "text/x-python",
      "codemirror_mode": {
        "name": "ipython",
        "version": 3
      },
      "pygments_lexer": "ipython3",
      "nbconvert_exporter": "python",
      "file_extension": ".py"
    },
    "kaggle": {
      "accelerator": "none",
      "dataSources": [
        {
          "sourceId": 12150276,
          "sourceType": "datasetVersion",
          "datasetId": 7652247
        }
      ],
      "dockerImageVersionId": 31040,
      "isInternetEnabled": true,
      "language": "python",
      "sourceType": "notebook",
      "isGpuEnabled": false
    },
    "colab": {
      "name": "TITANIC EXPLORATORY DATA ANALYSIS",
      "provenance": [],
      "include_colab_link": true
    }
  },
  "nbformat_minor": 0,
  "nbformat": 4,
  "cells": [
    {
      "cell_type": "markdown",
      "metadata": {
        "id": "view-in-github",
        "colab_type": "text"
      },
      "source": [
        "<a href=\"https://colab.research.google.com/github/Awino614/DATA-WRANGLING/blob/main/TITANIC_EXPLORATORY_DATA_ANALYSIS.ipynb\" target=\"_parent\"><img src=\"https://colab.research.google.com/assets/colab-badge.svg\" alt=\"Open In Colab\"/></a>"
      ]
    },
    {
      "source": [
        "# IMPORTANT: SOME KAGGLE DATA SOURCES ARE PRIVATE\n",
        "# RUN THIS CELL IN ORDER TO IMPORT YOUR KAGGLE DATA SOURCES.\n",
        "import kagglehub\n",
        "kagglehub.login()\n"
      ],
      "metadata": {
        "id": "61fTSBetbxoO"
      },
      "cell_type": "code",
      "outputs": [],
      "execution_count": null
    },
    {
      "source": [
        "# IMPORTANT: RUN THIS CELL IN ORDER TO IMPORT YOUR KAGGLE DATA SOURCES,\n",
        "# THEN FEEL FREE TO DELETE THIS CELL.\n",
        "# NOTE: THIS NOTEBOOK ENVIRONMENT DIFFERS FROM KAGGLE'S PYTHON\n",
        "# ENVIRONMENT SO THERE MAY BE MISSING LIBRARIES USED BY YOUR\n",
        "# NOTEBOOK.\n",
        "\n",
        "awino614_train_csv_file_path = kagglehub.dataset_download('awino614/train-csv-file')\n",
        "\n",
        "print('Data source import complete.')\n"
      ],
      "metadata": {
        "id": "TpHMzVUDbxoR"
      },
      "cell_type": "code",
      "outputs": [],
      "execution_count": null
    },
    {
      "cell_type": "code",
      "source": [
        "# This Python 3 environment comes with many helpful analytics libraries installed\n",
        "# It is defined by the kaggle/python Docker image: https://github.com/kaggle/docker-python\n",
        "# For example, here's several helpful packages to load\n",
        "\n",
        "import numpy as np # linear algebra\n",
        "import pandas as pd # data processing, CSV file I/O (e.g. pd.read_csv)\n",
        "\n",
        "# Input data files are available in the read-only \"../input/\" directory\n",
        "# For example, running this (by clicking run or pressing Shift+Enter) will list all files under the input directory\n",
        "\n",
        "import os\n",
        "for dirname, _, filenames in os.walk('/kaggle/input'):\n",
        "    for filename in filenames:\n",
        "        print(os.path.join(dirname, filename))\n",
        "\n",
        "# You can write up to 20GB to the current directory (/kaggle/working/) that gets preserved as output when you create a version using \"Save & Run All\"\n",
        "# You can also write temporary files to /kaggle/temp/, but they won't be saved outside of the current session"
      ],
      "metadata": {
        "_uuid": "8f2839f25d086af736a60e9eeb907d3b93b6e0e5",
        "_cell_guid": "b1076dfc-b9ad-4769-8c92-a6c4dae69d19",
        "trusted": true,
        "execution": {
          "iopub.status.busy": "2025-06-13T05:28:20.559508Z",
          "iopub.execute_input": "2025-06-13T05:28:20.559768Z",
          "iopub.status.idle": "2025-06-13T05:28:20.587178Z",
          "shell.execute_reply.started": "2025-06-13T05:28:20.559749Z",
          "shell.execute_reply": "2025-06-13T05:28:20.586278Z"
        },
        "id": "h01MYv1ObxoS"
      },
      "outputs": [],
      "execution_count": null
    },
    {
      "cell_type": "markdown",
      "source": [
        "# TITLE :EXPLORATORY DATA ANALYSIS\n",
        "AUTHOR : DOROTHY AWINO ONGONGA\n",
        "DATE : 13/6/2025\n",
        "Exploratory Data Analysis (EDA) is the process of examining and visualizing data sets to summarize their main characteristics, often before applying any modeling techniques. It helps analysts and data scientists understand the structure, patterns, relationships, and anomalies in the data.\n",
        "\n",
        "🔍 Key Purposes of EDA\n",
        "To gain insights into the data\n",
        "\n",
        ".To check data quality (missing values, duplicates, data types)\n",
        ".To identify patterns, trends, and outliers\n",
        ".To form hypotheses or choose the right analytical models\n",
        "\n"
      ],
      "metadata": {
        "id": "dfgyn1rEbxoT"
      }
    },
    {
      "cell_type": "code",
      "source": [
        "# Import libraries\n",
        "import pandas as pd  # Data manipulation\n",
        "import numpy as np  # Numerical computations\n",
        "import matplotlib.pyplot as plt  # Static plots\n",
        "import seaborn as sns  # Statistical plots\n",
        "import missingno as msno  # Missing data visualization\n",
        "\n",
        "# Configuring Seaborn plot aesthetics\n",
        "sns.set_theme(style='darkgrid', context='notebook')\n",
        "\n",
        "import warnings\n",
        "warnings.filterwarnings(\"ignore\")"
      ],
      "metadata": {
        "trusted": true,
        "execution": {
          "iopub.status.busy": "2025-06-13T05:48:33.067119Z",
          "iopub.execute_input": "2025-06-13T05:48:33.067443Z",
          "iopub.status.idle": "2025-06-13T05:48:34.186818Z",
          "shell.execute_reply.started": "2025-06-13T05:48:33.067419Z",
          "shell.execute_reply": "2025-06-13T05:48:34.185478Z"
        },
        "id": "hrOVRY_kbxoU"
      },
      "outputs": [],
      "execution_count": null
    },
    {
      "cell_type": "code",
      "source": [
        "# Load Data\n",
        "train = pd.read_csv(\"/kaggle/input/train-csv-file/train.csv\")"
      ],
      "metadata": {
        "trusted": true,
        "execution": {
          "iopub.status.busy": "2025-06-13T05:55:58.673614Z",
          "iopub.execute_input": "2025-06-13T05:55:58.673923Z",
          "iopub.status.idle": "2025-06-13T05:55:58.710105Z",
          "shell.execute_reply.started": "2025-06-13T05:55:58.673897Z",
          "shell.execute_reply": "2025-06-13T05:55:58.709263Z"
        },
        "id": "lvTsX3MabxoV"
      },
      "outputs": [],
      "execution_count": null
    },
    {
      "cell_type": "code",
      "source": [
        "# Preview the first 5 rows of the dataset\n",
        "train.head()"
      ],
      "metadata": {
        "trusted": true,
        "execution": {
          "iopub.status.busy": "2025-06-13T05:56:28.76742Z",
          "iopub.execute_input": "2025-06-13T05:56:28.767715Z",
          "iopub.status.idle": "2025-06-13T05:56:28.799053Z",
          "shell.execute_reply.started": "2025-06-13T05:56:28.767691Z",
          "shell.execute_reply": "2025-06-13T05:56:28.798222Z"
        },
        "id": "zPsbXi6qbxoV"
      },
      "outputs": [],
      "execution_count": null
    },
    {
      "cell_type": "code",
      "source": [
        "# Preview the first 20 rows of the dataset\n",
        "train.head(20)"
      ],
      "metadata": {
        "trusted": true,
        "execution": {
          "iopub.status.busy": "2025-06-13T05:58:45.953399Z",
          "iopub.execute_input": "2025-06-13T05:58:45.953702Z",
          "iopub.status.idle": "2025-06-13T05:58:45.970424Z",
          "shell.execute_reply.started": "2025-06-13T05:58:45.95368Z",
          "shell.execute_reply": "2025-06-13T05:58:45.969495Z"
        },
        "id": "mk6Abm8EbxoW"
      },
      "outputs": [],
      "execution_count": null
    },
    {
      "cell_type": "markdown",
      "source": [
        "### **Step 2: Checking the Dimensions of the Dataset**\n",
        "\n",
        "The `.shape` attribute provides the dimensions of the dataset as a tuple, showing the number of rows and columns.\n",
        "\n",
        "#### **Why Is This Important?**\n",
        "\n",
        "* **Number of rows**: Reflects the volume of data available. Larger datasets may demand optimized memory management, whereas smaller datasets often require techniques like cross-validation due to limited samples.\n",
        "* **Number of columns**: Represents the number of features (variables) available for analysis or model development.\n",
        "\n"
      ],
      "metadata": {
        "id": "kAndp3AnbxoW"
      }
    },
    {
      "cell_type": "code",
      "source": [
        "# Get the number of rows and columns\n",
        "print(f'The dataset has {train.shape[0]} rows and {train.shape[1]} columns.')"
      ],
      "metadata": {
        "trusted": true,
        "execution": {
          "iopub.status.busy": "2025-06-13T06:06:32.037553Z",
          "iopub.execute_input": "2025-06-13T06:06:32.037861Z",
          "iopub.status.idle": "2025-06-13T06:06:32.044525Z",
          "shell.execute_reply.started": "2025-06-13T06:06:32.037834Z",
          "shell.execute_reply": "2025-06-13T06:06:32.043409Z"
        },
        "id": "hiI3CNU-bxoW"
      },
      "outputs": [],
      "execution_count": null
    },
    {
      "cell_type": "markdown",
      "source": [
        "**🧭 Step 3: Overview of Columns and Data Types**\n",
        "The .info() function provides a concise summary of the dataset's structure.\n",
        "What Does the Output Reveal?\n",
        "•\tColumn names: Displays the names of all features (columns) in the dataset.\n",
        "•\tNon-null counts: Shows how many values are present (i.e., not missing) in each column.\n",
        "•\tData types: Indicates the data type of each column—such as int64, float64, or object.\n",
        "💡 In the Titanic dataset, we observe:\n",
        "•\t5 columns are of type integer\n",
        "•\t2 columns are of type float\n",
        "•\t5 columns are of type object\n",
        "This summary helps us determine whether each column’s data type aligns with its intended use. For instance, it's common for columns containing dates to be read as object types, even though they should be converted to datetime for accurate analysis.\n",
        "Similarly, the Survived column, although stored as numeric values (0 and 1), actually represents categorical outcomes—0 meaning the passenger did not survive, and 1 meaning they did. Therefore, it would be more appropriate to treat it as a categorical variable rather than a numerical one, especially during analysis and modeling.\n"
      ],
      "metadata": {
        "id": "RYmIfXl_bxoX"
      }
    },
    {
      "cell_type": "code",
      "source": [
        "# Get an overview of the dataset’s columns and their data types\n",
        "train.info()"
      ],
      "metadata": {
        "trusted": true,
        "execution": {
          "iopub.status.busy": "2025-06-13T06:11:27.857524Z",
          "iopub.execute_input": "2025-06-13T06:11:27.857824Z",
          "iopub.status.idle": "2025-06-13T06:11:27.883258Z",
          "shell.execute_reply.started": "2025-06-13T06:11:27.857802Z",
          "shell.execute_reply": "2025-06-13T06:11:27.88236Z"
        },
        "id": "-_QXdOyybxoX"
      },
      "outputs": [],
      "execution_count": null
    },
    {
      "cell_type": "code",
      "source": [
        "# Converting data types\n",
        "train['Survived'] = train['Survived'].astype('category')\n",
        "train['Pclass'] = train['Pclass'].astype('category')\n",
        "train['Sex'] = train['Sex'].astype('category')\n",
        "train['Cabin'] = train['Cabin'].astype('category')\n",
        "train['Embarked'] = train['Embarked'].astype('category')"
      ],
      "metadata": {
        "trusted": true,
        "execution": {
          "iopub.status.busy": "2025-06-13T06:13:01.674586Z",
          "iopub.execute_input": "2025-06-13T06:13:01.674891Z",
          "iopub.status.idle": "2025-06-13T06:13:01.688508Z",
          "shell.execute_reply.started": "2025-06-13T06:13:01.674867Z",
          "shell.execute_reply": "2025-06-13T06:13:01.68764Z"
        },
        "id": "Sx8aMxG7bxoX"
      },
      "outputs": [],
      "execution_count": null
    },
    {
      "cell_type": "code",
      "source": [
        "train.info()"
      ],
      "metadata": {
        "trusted": true,
        "execution": {
          "iopub.status.busy": "2025-06-13T06:13:27.881554Z",
          "iopub.execute_input": "2025-06-13T06:13:27.88185Z",
          "iopub.status.idle": "2025-06-13T06:13:27.898415Z",
          "shell.execute_reply.started": "2025-06-13T06:13:27.881826Z",
          "shell.execute_reply": "2025-06-13T06:13:27.897422Z"
        },
        "id": "4vWgWakFbxoX"
      },
      "outputs": [],
      "execution_count": null
    },
    {
      "cell_type": "markdown",
      "source": [
        "Step 4: Statistical Summary of Numerical Features\n",
        "The .describe() function provides a quick overview of summary statistics for all numerical columns in the dataset.\n",
        "What Does .describe() Show?\n",
        "•\tCount: Total number of non-missing entries in the column\n",
        "•\tMean: The average value\n",
        "•\tStandard Deviation (std): Measures how much the values deviate from the mean\n",
        "•\tMin/Max: The smallest and largest values in the column\n",
        "•\t25%, 50%, 75%: Percentiles (quartiles); the 50% value represents the median\n",
        "How to Interpret These Statistics Effectively:\n",
        "•\tCheck for unusual values: For example, the Age column should realistically fall between 0 and 100. Values outside this range (e.g., negative numbers or extremely high ages) may indicate data quality issues.\n",
        "•\tAssess skewness: If the mean and median differ significantly, the distribution might be skewed—this is often the case with columns like Fare.\n",
        "•\tSpot potential errors: Extremely high or low values could be outliers or data entry mistakes and should be investigated.\n",
        "💡 In the Titanic dataset, the PassengerId column is simply an identifier and does not carry any analytical value. It can be excluded from most forms of analysis.\n"
      ],
      "metadata": {
        "id": "F_VZg2I6bxoY"
      }
    },
    {
      "cell_type": "code",
      "source": [
        "# Summary statistics for numerical columns\n",
        "train.describe().T"
      ],
      "metadata": {
        "trusted": true,
        "execution": {
          "iopub.status.busy": "2025-06-13T06:19:22.227441Z",
          "iopub.execute_input": "2025-06-13T06:19:22.227763Z",
          "iopub.status.idle": "2025-06-13T06:19:22.262934Z",
          "shell.execute_reply.started": "2025-06-13T06:19:22.22774Z",
          "shell.execute_reply": "2025-06-13T06:19:22.261962Z"
        },
        "id": "K5yYDdXybxoY"
      },
      "outputs": [],
      "execution_count": null
    },
    {
      "cell_type": "code",
      "source": [
        "# Drop the PassengerId column\n",
        "train = train.drop(columns=['PassengerId'])"
      ],
      "metadata": {
        "trusted": true,
        "execution": {
          "iopub.status.busy": "2025-06-13T06:20:47.857654Z",
          "iopub.execute_input": "2025-06-13T06:20:47.857951Z",
          "iopub.status.idle": "2025-06-13T06:20:47.86849Z",
          "shell.execute_reply.started": "2025-06-13T06:20:47.857928Z",
          "shell.execute_reply": "2025-06-13T06:20:47.867498Z"
        },
        "id": "gJ0Mmz0ZbxoY"
      },
      "outputs": [],
      "execution_count": null
    },
    {
      "cell_type": "code",
      "source": [
        "# Drop the name column\n",
        "train = train.drop(columns=['Name'])"
      ],
      "metadata": {
        "trusted": true,
        "execution": {
          "iopub.status.busy": "2025-06-13T06:21:06.347443Z",
          "iopub.execute_input": "2025-06-13T06:21:06.347745Z",
          "iopub.status.idle": "2025-06-13T06:21:06.35436Z",
          "shell.execute_reply.started": "2025-06-13T06:21:06.347722Z",
          "shell.execute_reply": "2025-06-13T06:21:06.352846Z"
        },
        "id": "GE4m-an2bxoY"
      },
      "outputs": [],
      "execution_count": null
    },
    {
      "cell_type": "code",
      "source": [
        "# Summary statistics for numerical columns\n",
        "train.describe().T"
      ],
      "metadata": {
        "trusted": true,
        "execution": {
          "iopub.status.busy": "2025-06-13T06:21:27.054753Z",
          "iopub.execute_input": "2025-06-13T06:21:27.055115Z",
          "iopub.status.idle": "2025-06-13T06:21:27.079375Z",
          "shell.execute_reply.started": "2025-06-13T06:21:27.05509Z",
          "shell.execute_reply": "2025-06-13T06:21:27.078193Z"
        },
        "id": "QD8ciuWbbxoY"
      },
      "outputs": [],
      "execution_count": null
    },
    {
      "cell_type": "code",
      "source": [
        "# List column names\n",
        "train.columns"
      ],
      "metadata": {
        "trusted": true,
        "execution": {
          "iopub.status.busy": "2025-06-13T06:24:09.953469Z",
          "iopub.execute_input": "2025-06-13T06:24:09.953783Z",
          "iopub.status.idle": "2025-06-13T06:24:09.960543Z",
          "shell.execute_reply.started": "2025-06-13T06:24:09.953749Z",
          "shell.execute_reply": "2025-06-13T06:24:09.959615Z"
        },
        "id": "uyfq5BnTbxoZ"
      },
      "outputs": [],
      "execution_count": null
    },
    {
      "cell_type": "markdown",
      "source": [
        "🧭 Step 6: Checking Unique Values per Column\n",
        "To examine how many distinct values each column contains, use the .nunique() function.\n",
        "\n",
        "Why Is This Useful?\n",
        "Helps identify categorical features with a limited number of unique values—such as Sex, which typically includes just \"male\" and \"female\".\n",
        "\n",
        "Helps detect identifier columns like PassengerId, which often have a unique value for every row and are not useful for predictive modeling.\n",
        "\n",
        "💡 In the Titanic dataset, the PassengerId column contains 891 unique values, which matches the number of rows—confirming it is an identifier. Similarly, each passenger has a unique Name, further supporting its use for identification rather than analysis."
      ],
      "metadata": {
        "id": "UDNSTDD0bxoZ"
      }
    },
    {
      "cell_type": "code",
      "source": [
        "# Count the unique values in each column\n",
        "train.nunique()"
      ],
      "metadata": {
        "trusted": true,
        "execution": {
          "iopub.status.busy": "2025-06-13T06:26:35.162359Z",
          "iopub.execute_input": "2025-06-13T06:26:35.162662Z",
          "iopub.status.idle": "2025-06-13T06:26:35.175057Z",
          "shell.execute_reply.started": "2025-06-13T06:26:35.162641Z",
          "shell.execute_reply": "2025-06-13T06:26:35.174033Z"
        },
        "id": "QXbm4Qq7bxoZ"
      },
      "outputs": [],
      "execution_count": null
    },
    {
      "cell_type": "code",
      "source": [
        "# you can also use the following function to see the unique values inside each column. this will help you see inconsistency.\n",
        "# Function to display unique values for categorical variables\n",
        "def show_unique_values(train):\n",
        "    # Select only columns with object or categorical data types\n",
        "    categorical_columns = train.select_dtypes(include='object').columns\n",
        "    print(f'Categorical columns: {list(categorical_columns)}\\n')\n",
        "\n",
        "    # Iterate over each categorical column and print unique values\n",
        "    for col in categorical_columns:\n",
        "        print(f\"Unique values in '{col}': {train[col].unique()}\\n\")\n",
        "\n",
        "# Display unique values for all categorical columns in the dataset\n",
        "show_unique_values(train)"
      ],
      "metadata": {
        "trusted": true,
        "execution": {
          "iopub.status.busy": "2025-06-13T06:28:03.378176Z",
          "iopub.execute_input": "2025-06-13T06:28:03.378492Z",
          "iopub.status.idle": "2025-06-13T06:28:03.387328Z",
          "shell.execute_reply.started": "2025-06-13T06:28:03.378468Z",
          "shell.execute_reply": "2025-06-13T06:28:03.386416Z"
        },
        "id": "ZkSbCJvObxoZ"
      },
      "outputs": [],
      "execution_count": null
    },
    {
      "cell_type": "markdown",
      "source": [
        "Step 3: Handling Missing Values\n",
        "🚩 Why Are Missing Values Significant?\n",
        "Missing values are a common challenge in real-world datasets and can arise due to various reasons, such as:\n",
        "\n",
        "Human errors during data entry or collection\n",
        "\n",
        "Technical issues, including data corruption or transmission failures\n",
        "\n",
        "Incomplete information, such as passengers on the Titanic not providing cabin details\n",
        "\n",
        "Failing to address missing values can lead to:\n",
        "\n",
        "Biased analysis – Missing data can distort statistical summaries and distributions\n",
        "\n",
        "Computation errors – Some machine learning models cannot process missing values and may produce errors\n",
        "\n",
        "Loss of information – Carelessly removing rows or columns may result in unnecessary data loss\n",
        "\n",
        "🛠 Common Strategies for Handling Missing Data\n",
        "Approach\tDescription\tBest Used When\n",
        "Drop Data\tRemove rows or columns containing missing values\tWhen the proportion of missing data is small and the information is non-essential\n",
        "Impute Data\tReplace missing values with estimates (e.g., mean, median, mode, etc.)\tWhen there's enough data to generate reliable estimates\n",
        "Flag Missing\tCreate a new column indicating whether data was missing\tWhen the absence of data itself might carry important meaning\n",
        "\n",
        "\n"
      ],
      "metadata": {
        "id": "o5AhLMfKbxoZ"
      }
    },
    {
      "cell_type": "markdown",
      "source": [
        "🧭 Step 3.1: Visualizing Missing Data\n",
        "Before choosing a strategy, it's helpful to visualize where missing values occur in the dataset. One way to do this is by using the msno.bar(df) function, which presents a bar chart showing non-missing vs. missing data across all columns.\n",
        "\n",
        "What Does This Visualization Show?\n",
        "Each white gap in the plot indicates a missing value\n",
        "\n",
        "Columns with many white gaps have a higher proportion of missing data\n",
        "\n",
        "This allows for quick identification of problematic variables\n",
        "\n",
        "💡 In the Titanic dataset, the visualization reveals missing values in the Cabin and Age columns, and a few missing entries in the Embarked column.\n"
      ],
      "metadata": {
        "id": "WSOJZi62bxoa"
      }
    },
    {
      "cell_type": "code",
      "source": [
        "# Visualize missing data using missingno library\n",
        "import missingno as msno\n",
        "msno.bar(train)"
      ],
      "metadata": {
        "trusted": true,
        "execution": {
          "iopub.status.busy": "2025-06-13T06:36:37.317246Z",
          "iopub.execute_input": "2025-06-13T06:36:37.317557Z",
          "iopub.status.idle": "2025-06-13T06:36:38.443765Z",
          "shell.execute_reply.started": "2025-06-13T06:36:37.317534Z",
          "shell.execute_reply": "2025-06-13T06:36:38.442806Z"
        },
        "id": "rfEBDVQhbxoa"
      },
      "outputs": [],
      "execution_count": null
    },
    {
      "cell_type": "markdown",
      "source": [
        "🧭 Step 3.2: Identifying Missing Values\n",
        "To determine the number of missing values in each column, you can use functions like .isnull().sum().\n",
        "\n",
        "💡 Tip: Columns with over 50% missing values are typically candidates for removal, as they may lack sufficient data for reliable analysis.\n",
        "\n",
        "In the Titanic dataset, for instance, the Cabin column has approximately 77% missing values, making it difficult to extract meaningful insights from this feature."
      ],
      "metadata": {
        "id": "B2cG-9m4bxoa"
      }
    },
    {
      "cell_type": "code",
      "source": [
        "# Count the number of missing values in each column\n",
        "missing_values = train.isnull().sum().sort_values(ascending=False)\n",
        "missing_percentage = (missing_values / len(train)) * 100\n",
        "print(pd.DataFrame({'Missing Values': missing_values, 'Percentage': missing_percentage}))"
      ],
      "metadata": {
        "trusted": true,
        "execution": {
          "iopub.status.busy": "2025-06-13T06:42:12.416051Z",
          "iopub.execute_input": "2025-06-13T06:42:12.416351Z",
          "iopub.status.idle": "2025-06-13T06:42:12.427635Z",
          "shell.execute_reply.started": "2025-06-13T06:42:12.416329Z",
          "shell.execute_reply": "2025-06-13T06:42:12.426518Z"
        },
        "id": "wLkfHD2Jbxoa"
      },
      "outputs": [],
      "execution_count": null
    },
    {
      "cell_type": "markdown",
      "source": [
        "🧭 Step 3: Dropping Missing Data¶\n",
        "If a column has a high percentage of missing values, you can drop it:\n",
        "\n",
        "When to Use?\n",
        "When the column or row isn’t critical to your analysis.\n",
        "When removing the data won’t significantly reduce the size of your dataset."
      ],
      "metadata": {
        "id": "rF9crEyIbxoa"
      }
    },
    {
      "cell_type": "code",
      "source": [
        "# Drop a column with too many missing values\n",
        "train = train.drop(columns=['Cabin'])\n",
        "\n",
        "# Or If a row has multiple missing values, you can drop it:\n",
        "# train = train.dropna()"
      ],
      "metadata": {
        "trusted": true,
        "execution": {
          "iopub.status.busy": "2025-06-13T06:47:25.629734Z",
          "iopub.execute_input": "2025-06-13T06:47:25.630218Z",
          "iopub.status.idle": "2025-06-13T06:47:25.636175Z",
          "shell.execute_reply.started": "2025-06-13T06:47:25.630188Z",
          "shell.execute_reply": "2025-06-13T06:47:25.635316Z"
        },
        "id": "iz6dWVNYbxoa"
      },
      "outputs": [],
      "execution_count": null
    },
    {
      "cell_type": "markdown",
      "source": [
        "🧭 Step 4: Imputing Missing Values\n",
        "Instead of removing rows or columns with missing data, you can fill in the gaps using various imputation techniques:\n",
        "\n",
        "Mean Imputation: Ideal for numerical features with a normal (bell-shaped) distribution.\n",
        "\n",
        "Median Imputation: More effective for skewed data or when outliers are present, as it is less sensitive to extreme values.\n",
        "\n",
        "Mode Imputation: Best suited for categorical variables, where the most frequently occurring value is used to fill in the missing entries."
      ],
      "metadata": {
        "id": "Wcs6CKysbxoa"
      }
    },
    {
      "cell_type": "code",
      "source": [
        "# Fill missing values in the 'Age' column with the mean age\n",
        "train['Age'].fillna(train['Age'].mean(), inplace=True)\n",
        "\n",
        "# Fill missing values in the 'Fare' column with the median\n",
        "train['Fare'].fillna(train['Fare'].median(), inplace=True)\n",
        "\n",
        "# Fill missing values in the 'Embarked' column with the most common value (mode)\n",
        "train['Embarked'].fillna(train['Embarked'].mode()[0], inplace=True)"
      ],
      "metadata": {
        "trusted": true,
        "execution": {
          "iopub.status.busy": "2025-06-13T06:49:25.077598Z",
          "iopub.execute_input": "2025-06-13T06:49:25.077893Z",
          "iopub.status.idle": "2025-06-13T06:49:25.088414Z",
          "shell.execute_reply.started": "2025-06-13T06:49:25.077871Z",
          "shell.execute_reply": "2025-06-13T06:49:25.087262Z"
        },
        "id": "0tNAeQQNbxob"
      },
      "outputs": [],
      "execution_count": null
    },
    {
      "cell_type": "markdown",
      "source": [
        "🧭 Step 5: Flagging Missing Values\n",
        "Rather than deleting or filling in missing values, you can create a new column to indicate where data is missing.\n",
        "\n",
        "This approach is helpful when the absence of data could carry important information. For instance, in the Titanic dataset, passengers with missing Cabin values may have been assigned to a different part of the ship—potentially influencing survival outcomes."
      ],
      "metadata": {
        "id": "YUspgfbbbxob"
      }
    },
    {
      "cell_type": "code",
      "source": [
        "# Create a new column indicating missing values for 'Cabin'\n",
        "# train['Cabin_missing_flag'] = train['Cabin'].isnull().astype(int)"
      ],
      "metadata": {
        "trusted": true,
        "execution": {
          "iopub.status.busy": "2025-06-13T06:51:53.719387Z",
          "iopub.execute_input": "2025-06-13T06:51:53.719703Z",
          "iopub.status.idle": "2025-06-13T06:51:53.724585Z",
          "shell.execute_reply.started": "2025-06-13T06:51:53.719683Z",
          "shell.execute_reply": "2025-06-13T06:51:53.723527Z"
        },
        "id": "jyi463Enbxob"
      },
      "outputs": [],
      "execution_count": null
    },
    {
      "cell_type": "markdown",
      "source": [
        "Step 2: Univariate Analysis\n",
        "🎯 What Is Univariate Analysis?\n",
        "Univariate analysis focuses on examining a single variable at a time to understand its characteristics, including:\n",
        "\n",
        "Distribution (e.g., normal, skewed)\n",
        "\n",
        "Central tendency (mean, median, mode)\n",
        "\n",
        "Spread or variability (range, variance, standard deviation)\n",
        "\n",
        "This type of analysis helps answer questions such as:\n",
        "\n",
        "What is the age distribution of passengers?\n",
        "\n",
        "How are passengers distributed across embarkation points?\n",
        "\n",
        "Are ticket prices evenly distributed or skewed?\n",
        "\n",
        "🧭 Step 2.1: Analyzing Numerical Features\n",
        "When working with numerical columns, the goal is to explore each one individually to understand its shape and patterns.\n",
        "\n",
        "Common Plots for Numerical Data:\n",
        "Histogram – Shows how frequently values occur across intervals.\n",
        "\n",
        "KDE Plot (Kernel Density Estimate) – A smooth curve that estimates the probability distribution of the data.\n",
        "\n",
        "Boxplot – Displays the range, median, and identifies outliers.\n",
        "\n",
        "Using Histograms\n",
        "Histograms are ideal for visualizing the distribution of numeric variables such as Age, Fare, etc.\n",
        "\n",
        "What to Look For:\n",
        "\n",
        "Peaks indicate the most common value ranges (e.g., age groups).\n",
        "\n",
        "Gaps suggest missing or infrequent values.\n",
        "\n",
        "Skewness helps determine whether the data is symmetrical or biased to one side.\n",
        "\n",
        "💡 Tip: You can enhance a histogram by adding a density curve using sns.histplot(data, kde=True) to better visualize the distribution.\n",
        "\n"
      ],
      "metadata": {
        "id": "FhQImWn0bxob"
      }
    },
    {
      "cell_type": "code",
      "source": [
        "# Histogram for Age\n",
        "plt.figure(figsize=(8, 5))\n",
        "sns.histplot(train['Age'].dropna(), bins=30, kde=True)\n",
        "plt.title('Distribution of Age')\n",
        "plt.xlabel('Age')\n",
        "plt.ylabel('Count')\n",
        "plt.show()"
      ],
      "metadata": {
        "trusted": true,
        "execution": {
          "iopub.status.busy": "2025-06-13T07:05:54.99179Z",
          "iopub.execute_input": "2025-06-13T07:05:54.992139Z",
          "iopub.status.idle": "2025-06-13T07:05:55.413961Z",
          "shell.execute_reply.started": "2025-06-13T07:05:54.992114Z",
          "shell.execute_reply": "2025-06-13T07:05:55.413052Z"
        },
        "id": "1KKXBZfzbxob"
      },
      "outputs": [],
      "execution_count": null
    },
    {
      "cell_type": "markdown",
      "source": [
        "2. KDE Plot (Smoothed Distribution)\n",
        "The KDE plot shows the probability density function of a numerical column:\n",
        "\n",
        "When to Use KDE Plots?:\n",
        "When you want to visualize the shape of the data distribution more smoothly than a histogram.\n",
        "Great for detecting skewness and multimodal distributions (multiple peaks)."
      ],
      "metadata": {
        "id": "vIKn0HVebxob"
      }
    },
    {
      "cell_type": "code",
      "source": [
        "# KDE Plot for Fare\n",
        "plt.figure(figsize=(8, 5))\n",
        "sns.kdeplot(train['Fare'], shade=True)\n",
        "plt.title('KDE Plot of Fare')\n",
        "plt.xlabel('Fare')\n",
        "plt.show()"
      ],
      "metadata": {
        "trusted": true,
        "execution": {
          "iopub.status.busy": "2025-06-13T07:08:06.482687Z",
          "iopub.execute_input": "2025-06-13T07:08:06.483646Z",
          "iopub.status.idle": "2025-06-13T07:08:06.788568Z",
          "shell.execute_reply.started": "2025-06-13T07:08:06.483604Z",
          "shell.execute_reply": "2025-06-13T07:08:06.787649Z"
        },
        "id": "teQ7Mb_2bxob"
      },
      "outputs": [],
      "execution_count": null
    },
    {
      "cell_type": "markdown",
      "source": [
        "3. Boxplot (Detecting Outliers)\n",
        "Boxplots visualize the minimum, lower quartile (25%), median, upper quartile (75%), and maximum values:\n",
        "\n",
        "Interpretation:\n",
        "Line in the middle: Median (50% value).\n",
        "Box edges: 25th percentile (Q1) and 75th percentile (Q3).\n",
        "Whiskers: Minimum and maximum values (excluding outliers).\n",
        "Dots outside the whiskers: Outliers.\n",
        "💡 Tip: If the boxplot has a long \"tail\" or many outliers, the data might be skewed."
      ],
      "metadata": {
        "id": "yHCmn2qdbxob"
      }
    },
    {
      "cell_type": "code",
      "source": [
        "# Boxplot for Fare\n",
        "plt.figure(figsize=(8, 5))\n",
        "sns.boxplot(x=train['Fare'])\n",
        "plt.title('Boxplot of Fare')\n",
        "plt.show()"
      ],
      "metadata": {
        "trusted": true,
        "execution": {
          "iopub.status.busy": "2025-06-13T07:09:58.702099Z",
          "iopub.execute_input": "2025-06-13T07:09:58.702424Z",
          "iopub.status.idle": "2025-06-13T07:09:58.887829Z",
          "shell.execute_reply.started": "2025-06-13T07:09:58.7024Z",
          "shell.execute_reply": "2025-06-13T07:09:58.886885Z"
        },
        "id": "IRs8i8Ysbxog"
      },
      "outputs": [],
      "execution_count": null
    },
    {
      "cell_type": "markdown",
      "source": [
        "🧭 Step 2: Univariate Analysis for Categorical Columns\n",
        "There are common visualizations used when we are dealing with categorical columns:\n",
        "\n",
        "Countplot: Shows the frequency count of each category.\n",
        "Pie Chart: Shows proportions of categories in a pie format (less commonly used in data science).\n",
        "1. Countplot\n",
        "Countplots are used to count the frequency of each category in a column:\n",
        "\n",
        "Interpretation:\n",
        "Bars represent categories: Higher bars indicate more frequent categories.\n",
        "Detect class imbalance (e.g., if most passengers embarked from \"S\", your data is imbalanced).\n",
        "💡 Tip: You can add hue='Survived' to compare survival rates across embarkation points."
      ],
      "metadata": {
        "id": "cZkHV3GAbxog"
      }
    },
    {
      "cell_type": "code",
      "source": [
        "# Countplot for Embarked\n",
        "plt.figure(figsize=(8, 5))\n",
        "sns.countplot(x='Embarked', data=train, palette='pastel')\n",
        "plt.title('Countplot of Embarked')\n",
        "plt.xlabel('Embarkation Port')\n",
        "plt.ylabel('Count')\n",
        "plt.show()"
      ],
      "metadata": {
        "trusted": true,
        "execution": {
          "iopub.status.busy": "2025-06-13T07:11:57.161966Z",
          "iopub.execute_input": "2025-06-13T07:11:57.16238Z",
          "iopub.status.idle": "2025-06-13T07:11:57.369194Z",
          "shell.execute_reply.started": "2025-06-13T07:11:57.162352Z",
          "shell.execute_reply": "2025-06-13T07:11:57.367834Z"
        },
        "id": "YI-p4dIsbxog"
      },
      "outputs": [],
      "execution_count": null
    },
    {
      "cell_type": "markdown",
      "source": [
        "2. Pie Chart\n",
        "While pie charts are visually appealing, they’re generally less informative than bar charts for categorical data.\n",
        "\n",
        "Why Use a Pie Chart?\n",
        "Useful for displaying proportions (e.g., percentage of males vs. females).\n",
        "Avoid using them when you have more than 3-4 categories.\n",
        "💡 Tip: You can add hue='Survived' to compare survival rates across embarkation points."
      ],
      "metadata": {
        "id": "vnCG_Zi4bxog"
      }
    },
    {
      "cell_type": "code",
      "source": [
        "# Pie chart for Sex distribution\n",
        "train['Sex'].value_counts().plot.pie(autopct='%1.1f%%', figsize=(6, 6), colors=['#ff9999', '#66b3ff'])\n",
        "plt.title('Sex Distribution')\n",
        "plt.show()"
      ],
      "metadata": {
        "trusted": true,
        "execution": {
          "iopub.status.busy": "2025-06-13T07:13:19.358649Z",
          "iopub.execute_input": "2025-06-13T07:13:19.359085Z",
          "iopub.status.idle": "2025-06-13T07:13:19.494414Z",
          "shell.execute_reply.started": "2025-06-13T07:13:19.359057Z",
          "shell.execute_reply": "2025-06-13T07:13:19.493437Z"
        },
        "id": "1cTq8Eevbxoh"
      },
      "outputs": [],
      "execution_count": null
    },
    {
      "cell_type": "markdown",
      "source": [
        "🧭 Step 3: Summary Statistics for Categorical Variables\n",
        "In addition to plots, you can also view summary statistics for categorical columns using .value_counts():\n",
        "\n",
        "Interpretation:\n",
        "Class \"3\" had the most passengers, followed by \"1\" and \"2\".\n",
        "value_counts() helps detect any rare categories."
      ],
      "metadata": {
        "id": "XK-_3VWXbxoh"
      }
    },
    {
      "cell_type": "code",
      "source": [
        "# Frequency count of unique values in the 'Pclass' column\n",
        "print(train['Pclass'].value_counts())"
      ],
      "metadata": {
        "trusted": true,
        "execution": {
          "iopub.status.busy": "2025-06-13T07:15:23.536641Z",
          "iopub.execute_input": "2025-06-13T07:15:23.537517Z",
          "iopub.status.idle": "2025-06-13T07:15:23.54576Z",
          "shell.execute_reply.started": "2025-06-13T07:15:23.537486Z",
          "shell.execute_reply": "2025-06-13T07:15:23.544604Z"
        },
        "id": "jhXwvkRFbxoh"
      },
      "outputs": [],
      "execution_count": null
    },
    {
      "cell_type": "markdown",
      "source": [
        "STEP 3: 🎯 UNDERSTANDING BIVARIATE ANALYSIS\n",
        "Bivariate analysis examines the relationship between two variables at a time. It helps uncover patterns, associations, or differences that aren't visible when analyzing variables individually.\n",
        "It allows you to explore questions like:\n",
        "•\tDoes fare vary across different passenger classes (Pclass)?\n",
        "•\tAre younger passengers more likely to survive?\n",
        "•\tDoes the port of embarkation influence survival rates?\n",
        "By analyzing two variables together, you can detect correlations, group differences, and underlying trends.\n",
        "________________________________________\n",
        "🛠 Choosing the Right Visuals for Bivariate Analysis\n",
        "Type of Variables\tRecommended Visualizations\tExample\n",
        "Numerical vs Numerical\tScatter plots, Correlation heatmaps\tAge vs Fare\n",
        "Numerical vs Categorical\tBoxplots, Violin plots, Bar plots\tFare vs Pclass, Age vs Survived\n",
        "Categorical vs Categorical\tGrouped bar plots, Mosaic plots, Countplots\tPclass vs Survived, Embarked vs Sex\n",
        "________________________________________\n",
        "🧭 Step 3.1: Numerical vs Numerical Analysis\n",
        "📊 Scatter Plot\n",
        "Scatter plots are ideal for visualizing the relationship between two numerical features.\n",
        "What to Look For:\n",
        "•\tClusters may reveal subgroups (e.g., younger passengers typically paid lower fares).\n",
        "•\tUse hue or color to add a third variable, such as survival status, for deeper insights.\n",
        "•\tLinear patterns suggest a potential correlation between the two variables.\n"
      ],
      "metadata": {
        "id": "l_pFya1mbxoh"
      }
    },
    {
      "cell_type": "code",
      "source": [
        "# Scatter plot for Age vs Fare\n",
        "plt.figure(figsize=(8, 5))\n",
        "sns.scatterplot(x='Age', y='Fare', data=train, hue='Survived', palette='coolwarm')\n",
        "plt.title('Scatter Plot of Age vs Fare (Colored by Survived)')\n",
        "plt.show()"
      ],
      "metadata": {
        "trusted": true,
        "execution": {
          "iopub.status.busy": "2025-06-13T07:21:36.995578Z",
          "iopub.execute_input": "2025-06-13T07:21:36.995878Z",
          "iopub.status.idle": "2025-06-13T07:21:37.375282Z",
          "shell.execute_reply.started": "2025-06-13T07:21:36.995853Z",
          "shell.execute_reply": "2025-06-13T07:21:37.374101Z"
        },
        "id": "hRjhf1Z1bxoh"
      },
      "outputs": [],
      "execution_count": null
    },
    {
      "cell_type": "markdown",
      "source": [
        "2. Correlation Heatmap\n",
        "A correlation heatmap shows the strength and direction of relationships between numerical variables:\n",
        "\n",
        "What the Heatmap Shows:\n",
        "Positive correlations (closer to 1): Variables increase together (e.g., age and fare).\n",
        "Negative correlations (closer to -1): One variable decreases as the other increases.\n",
        "Values near 0: No clear relationship between variables.\n",
        "💡 Tip: Correlation is only meaningful for numerical columns."
      ],
      "metadata": {
        "id": "HWIlwXfSbxoh"
      }
    },
    {
      "cell_type": "code",
      "source": [
        "# Correlation heatmap for numerical columns only\n",
        "plt.figure(figsize=(8, 6))\n",
        "numerical_columns = train.select_dtypes(include=['int64', 'float64']).columns  # Select only numerical columns\n",
        "sns.heatmap(train[numerical_columns].corr(), annot=True, cmap='coolwarm', fmt='.2f')\n",
        "plt.title('Correlation Heatmap of Numerical Features')\n",
        "plt.show()"
      ],
      "metadata": {
        "trusted": true,
        "execution": {
          "iopub.status.busy": "2025-06-13T07:27:57.057009Z",
          "iopub.execute_input": "2025-06-13T07:27:57.057392Z",
          "iopub.status.idle": "2025-06-13T07:27:57.382281Z",
          "shell.execute_reply.started": "2025-06-13T07:27:57.057367Z",
          "shell.execute_reply": "2025-06-13T07:27:57.381368Z"
        },
        "id": "pitKfqRXbxoh"
      },
      "outputs": [],
      "execution_count": null
    },
    {
      "cell_type": "markdown",
      "source": [
        " Step 2: Numerical vs Categorical Analysis¶\n",
        "1. Boxplot\n",
        "Boxplots are great for visualizing the distribution of numerical values grouped by categories:\n",
        "\n",
        "Interpretation:\n",
        "Length of the box: Shows the interquartile range (IQR).\n",
        "Line inside the box: Median fare for each Pclass.\n",
        "Outliers may indicate passengers who paid abnormally high fares (luxury tickets)."
      ],
      "metadata": {
        "id": "o5469wJcbxoi"
      }
    },
    {
      "cell_type": "code",
      "source": [
        "# Boxplot of Fare grouped by Pclass\n",
        "plt.figure(figsize=(8, 5))\n",
        "sns.boxplot(x='Pclass', y='Fare', data=train, palette='Set2')\n",
        "plt.title('Boxplot of Fare by Pclass')\n",
        "plt.xlabel('Passenger Class')\n",
        "plt.ylabel('Fare')\n",
        "plt.show()"
      ],
      "metadata": {
        "trusted": true,
        "execution": {
          "iopub.status.busy": "2025-06-13T07:30:47.31441Z",
          "iopub.execute_input": "2025-06-13T07:30:47.314723Z",
          "iopub.status.idle": "2025-06-13T07:30:47.530882Z",
          "shell.execute_reply.started": "2025-06-13T07:30:47.3147Z",
          "shell.execute_reply": "2025-06-13T07:30:47.529913Z"
        },
        "id": "mImTgsujbxoi"
      },
      "outputs": [],
      "execution_count": null
    },
    {
      "cell_type": "markdown",
      "source": [
        "2. Violin Plot\n",
        "A violin plot is similar to a boxplot but also shows the density of the data:\n",
        "\n",
        "Interpretation:\n",
        "Wider parts of the plot show where data points are concentrated.\n",
        "Use violin plots when you want to see both distribution and summary statistics."
      ],
      "metadata": {
        "id": "OkiPcrAVbxoi"
      }
    },
    {
      "cell_type": "code",
      "source": [
        "# Violin plot of Age grouped by Survived\n",
        "plt.figure(figsize=(8, 5))\n",
        "sns.violinplot(x='Survived', y='Age', data=train, split=True, palette='muted')\n",
        "plt.title('Violin Plot of Age by Survival')\n",
        "plt.xlabel('Survived (0 = No, 1 = Yes)')\n",
        "plt.ylabel('Age')\n",
        "plt.show()"
      ],
      "metadata": {
        "trusted": true,
        "execution": {
          "iopub.status.busy": "2025-06-13T07:32:57.766344Z",
          "iopub.execute_input": "2025-06-13T07:32:57.76666Z",
          "iopub.status.idle": "2025-06-13T07:32:58.009167Z",
          "shell.execute_reply.started": "2025-06-13T07:32:57.766638Z",
          "shell.execute_reply": "2025-06-13T07:32:58.008208Z"
        },
        "id": "qmYSNSdmbxoi"
      },
      "outputs": [],
      "execution_count": null
    },
    {
      "cell_type": "markdown",
      "source": [
        "🧭 Step 3: Categorical vs Categorical Analysis¶\n",
        "1. Grouped Bar Plot\n",
        "Grouped bar plots show the count or proportion of one category for each level of another category:\n",
        "\n",
        "Interpretation:\n",
        "This plot shows how survival rates differ across embarkation ports (Embarked).\n",
        "Large differences between the bar heights suggest that the embarkation location influenced survival chances."
      ],
      "metadata": {
        "id": "8aEGjpVabxoi"
      }
    },
    {
      "cell_type": "code",
      "source": [
        "# Grouped bar plot of Survived vs Embarked\n",
        "plt.figure(figsize=(8, 5))\n",
        "sns.countplot(x='Embarked', hue='Survived', data=train, palette='pastel')\n",
        "plt.title('Survival Counts by Embarked Port')\n",
        "plt.xlabel('Embarked Port')\n",
        "plt.ylabel('Count')\n",
        "plt.show()"
      ],
      "metadata": {
        "trusted": true,
        "execution": {
          "iopub.status.busy": "2025-06-13T07:36:09.869533Z",
          "iopub.execute_input": "2025-06-13T07:36:09.869834Z",
          "iopub.status.idle": "2025-06-13T07:36:10.134372Z",
          "shell.execute_reply.started": "2025-06-13T07:36:09.869811Z",
          "shell.execute_reply": "2025-06-13T07:36:10.133379Z"
        },
        "id": "46_bOApBbxoi"
      },
      "outputs": [],
      "execution_count": null
    },
    {
      "cell_type": "markdown",
      "source": [
        "2. Mosaic Plot\n",
        "Mosaic plots show the proportion of categories across different groups:\n",
        "\n",
        "Interpretation:\n",
        "Larger blocks indicate more frequent category combinations (e.g., \"Pclass 3 + Did Not Survive\" may have a large block).\n",
        "Helps detect imbalances between groups."
      ],
      "metadata": {
        "id": "0wuAPedubxoi"
      }
    },
    {
      "cell_type": "code",
      "source": [
        "# Install required library for mosaic plot\n",
        "# !pip install statsmodels\n",
        "from statsmodels.graphics.mosaicplot import mosaic\n",
        "from itertools import product\n",
        "\n",
        "# Mosaic plot of Pclass vs Survived\n",
        "plt.figure(figsize=(10, 10))\n",
        "mosaic(train, ['Pclass', 'Survived'], title='Mosaic Plot of Pclass vs Survived')\n",
        "plt.show()"
      ],
      "metadata": {
        "trusted": true,
        "execution": {
          "iopub.status.busy": "2025-06-13T07:38:02.478168Z",
          "iopub.execute_input": "2025-06-13T07:38:02.478631Z",
          "iopub.status.idle": "2025-06-13T07:38:02.680143Z",
          "shell.execute_reply.started": "2025-06-13T07:38:02.47859Z",
          "shell.execute_reply": "2025-06-13T07:38:02.679328Z"
        },
        "id": "1-3koQxpbxoj"
      },
      "outputs": [],
      "execution_count": null
    },
    {
      "cell_type": "markdown",
      "source": [
        "STEP 3: MULTIVARIATE ANALYSIS\n",
        "________________________________________\n",
        "🎯 What is Multivariate Analysis?\n",
        "Multivariate analysis examines three or more variables at the same time to uncover deeper insights and complex relationships. It helps answer more sophisticated questions, such as:\n",
        "•\tHow do passenger class (Pclass), age, and fare together influence survival?\n",
        "•\tDo survival rates vary by embarkation point when also considering passenger class?\n",
        "By analyzing multiple variables simultaneously, we can identify interactions, combined effects, and hidden patterns that are often missed in simpler two-variable (bivariate) analyses.\n",
        "________________________________________\n",
        "🛠 Common Techniques for Multivariate Analysis\n",
        "Visualization Tool\tUse Case\tExample\n",
        "Pair Plot\tCompare several numerical variables at once\tAge, Fare, and Survived relationships\n",
        "FacetGrid\tPlot data by subgroups\tAge vs Fare split by survival status\n",
        "Heatmap\tShow correlation across numeric features\tCorrelation matrix of all numeric columns\n",
        "3D Scatter Plot\tVisualize interactions in three dimensions\tAge vs Fare vs Survived\n",
        "________________________________________\n",
        "🧭 Step 1: Using Pair Plots\n",
        "Pair plots display relationships between pairs of numerical features while also showing the distribution of each individual feature.\n",
        "How to Interpret:\n",
        "•\tDiagonal: KDE (density) plots that show the distribution of single variables.\n",
        "•\tOff-diagonal: Scatter plots showing pairwise relationships, e.g., Age vs Fare.\n",
        "•\tHue (color): Can be used to distinguish between categories, such as survival status.\n",
        "💡 Tip: Pair plots are excellent for spotting correlations, clusters, and trends across multiple features at once.\n"
      ],
      "metadata": {
        "id": "KXeWAkkLbxoj"
      }
    },
    {
      "cell_type": "code",
      "source": [
        "# Pair plot for numerical columns\n",
        "plt.figure(figsize=(10, 10))\n",
        "sns.pairplot(train, hue='Survived', diag_kind='kde', palette='coolwarm')\n",
        "plt.show()"
      ],
      "metadata": {
        "trusted": true,
        "execution": {
          "iopub.status.busy": "2025-06-13T07:48:00.440606Z",
          "iopub.execute_input": "2025-06-13T07:48:00.440896Z",
          "iopub.status.idle": "2025-06-13T07:48:06.577316Z",
          "shell.execute_reply.started": "2025-06-13T07:48:00.440877Z",
          "shell.execute_reply": "2025-06-13T07:48:06.576338Z"
        },
        "id": "cXgIf9rPbxoj"
      },
      "outputs": [],
      "execution_count": null
    },
    {
      "cell_type": "markdown",
      "source": [
        " Step 2: FacetGrid (Subplots for Subgroups)¶\n",
        "FacetGrid creates multiple subplots for different subsets of data based on categorical variables:\n",
        "\n",
        "Interpretation:\n",
        "This plot shows how the age distribution differs based on Survived (columns) and Pclass (rows).\n",
        "You can see patterns like younger passengers in Pclass 1 having higher survival rates.\n",
        "💡 Tip: FacetGrid is useful for detecting interactions between multiple variables."
      ],
      "metadata": {
        "id": "cIA5--Okbxoj"
      }
    },
    {
      "cell_type": "code",
      "source": [
        "# FacetGrid for Age distribution by Survived and Pclass\n",
        "g = sns.FacetGrid(train, col='Survived', row='Pclass', height=4, aspect=1.5)\n",
        "g.map(sns.histplot, 'Age', kde=True)\n",
        "plt.show()"
      ],
      "metadata": {
        "trusted": true,
        "execution": {
          "iopub.status.busy": "2025-06-13T07:49:48.546812Z",
          "iopub.execute_input": "2025-06-13T07:49:48.547215Z",
          "iopub.status.idle": "2025-06-13T07:49:50.802782Z",
          "shell.execute_reply.started": "2025-06-13T07:49:48.547189Z",
          "shell.execute_reply": "2025-06-13T07:49:50.801734Z"
        },
        "id": "TpBNTwUgbxoj"
      },
      "outputs": [],
      "execution_count": null
    },
    {
      "cell_type": "markdown",
      "source": [
        "🧭 Step 3: Correlation Heatmap for Numerical Columns\n",
        "A heatmap shows the correlation between multiple numerical variables:\n",
        "\n",
        "What the Heatmap Shows:\n",
        "Strong positive correlations (closer to +1) indicate that variables increase together.\n",
        "Strong negative correlations (closer to -1) indicate that as one variable increases, the other decreases.\n",
        "Correlation values close to zero indicate no strong relationship."
      ],
      "metadata": {
        "id": "47AQFD9Gbxoj"
      }
    },
    {
      "cell_type": "code",
      "source": [
        "# Heatmap of numerical features only\n",
        "plt.figure(figsize=(8, 6))\n",
        "numerical_columns = train.select_dtypes(include=['int64', 'float64']).columns  # Select only numerical columns\n",
        "sns.heatmap(train[numerical_columns].corr(), annot=True, cmap='Blues', fmt='.2f')\n",
        "plt.title('Correlation Heatmap of Numerical Features')\n",
        "plt.show()"
      ],
      "metadata": {
        "trusted": true,
        "execution": {
          "iopub.status.busy": "2025-06-13T07:51:34.572567Z",
          "iopub.execute_input": "2025-06-13T07:51:34.572904Z",
          "iopub.status.idle": "2025-06-13T07:51:34.887101Z",
          "shell.execute_reply.started": "2025-06-13T07:51:34.572869Z",
          "shell.execute_reply": "2025-06-13T07:51:34.88601Z"
        },
        "id": "T1ETi23ubxoj"
      },
      "outputs": [],
      "execution_count": null
    },
    {
      "cell_type": "markdown",
      "source": [
        "🧭 Step 4: 3D Scatter Plot¶\n",
        "A 3D scatter plot helps visualize three numerical variables at once:\n",
        "\n",
        "Interpretation:\n",
        "The X, Y, and Z axes represent three numerical variables.\n",
        "The color represents categories (e.g., passenger class).\n",
        "The size of points can represent another variable (e.g., Fare).\n",
        "💡 Tip: 3D scatter plots are useful for detecting interactions and clusters but can be hard to interpret for large datasets."
      ],
      "metadata": {
        "id": "LSrmm2Nrbxok"
      }
    },
    {
      "cell_type": "code",
      "source": [
        "# 3D scatter plot for Age, Fare, and Survived\n",
        "import plotly.express as px\n",
        "\n",
        "fig = px.scatter_3d(train, x='Age', y='Fare', z='Survived', color='Pclass', size='Fare', opacity=0.7)\n",
        "fig.update_traces(marker=dict(line=dict(width=0)))\n",
        "fig.update_layout(title='3D Scatter Plot: Age vs Fare vs Survived')\n",
        "fig.show()"
      ],
      "metadata": {
        "trusted": true,
        "execution": {
          "iopub.status.busy": "2025-06-13T07:54:24.829067Z",
          "iopub.execute_input": "2025-06-13T07:54:24.829358Z",
          "iopub.status.idle": "2025-06-13T07:54:24.900356Z",
          "shell.execute_reply.started": "2025-06-13T07:54:24.829339Z",
          "shell.execute_reply": "2025-06-13T07:54:24.899325Z"
        },
        "id": "hJIKOUdMbxok"
      },
      "outputs": [],
      "execution_count": null
    },
    {
      "cell_type": "markdown",
      "source": [
        "Step 4: Outlier Detection and Handling\n",
        "🎯 What Are Outliers?\n",
        "Outliers are data points that deviate significantly from the rest of the dataset. These can arise due to:\n",
        "\n",
        "Genuine anomalies (e.g., wealthy Titanic passengers who paid unusually high fares),\n",
        "\n",
        "Data entry mistakes (e.g., recording someone's age as 500),\n",
        "\n",
        "Unique cases that deserve further analysis (e.g., individuals who survived despite being in high-risk groups).\n",
        "\n",
        "Outliers can negatively impact your analysis by:\n",
        "\n",
        "Distorting summary statistics like the mean and standard deviation,\n",
        "\n",
        "Affecting model accuracy, either by causing overfitting or masking true patterns.\n",
        "\n",
        "🛠 Common Techniques for Outlier Detection\n",
        "Method\tDescription\tBest Used When\n",
        "Boxplot\tGraphical representation of data distribution showing outliers as individual points\tSuitable for small to medium datasets\n",
        "Z-score\tMeasures how many standard deviations a point is from the mean\tIdeal for normally distributed data\n",
        "IQR (Interquartile Range)\tFlags outliers using the range between the 25th (Q1) and 75th (Q3) percentiles\tUseful for skewed distributions\n",
        "\n",
        "🧭 Step 1: Identifying Outliers with Boxplots\n",
        "A boxplot provides a summary of a feature’s distribution, including:\n",
        "\n",
        "Minimum and maximum values\n",
        "\n",
        "Lower (Q1) and upper (Q3) quartiles\n",
        "\n",
        "Median\n",
        "\n",
        "Outliers (plotted as dots beyond the whiskers)\n",
        "\n",
        "How to Interpret:\n",
        "\n",
        "Points outside the \"whiskers\" are considered potential outliers.\n",
        "\n",
        "If the plot has a long tail or numerous dots, it suggests a feature with extreme values.\n",
        "\n",
        "💡 Tip: For skewed data, boxplots may show many outliers. Consider transforming the data or using more robust methods if needed.\n",
        "\n"
      ],
      "metadata": {
        "id": "HnILFr-ibxok"
      }
    },
    {
      "cell_type": "code",
      "source": [
        "# Boxplot for Fare to detect outliers\n",
        "plt.figure(figsize=(8, 5))\n",
        "sns.boxplot(x=train['Fare'], palette='pastel')\n",
        "plt.title('Boxplot of Fare')\n",
        "plt.show()"
      ],
      "metadata": {
        "trusted": true,
        "execution": {
          "iopub.status.busy": "2025-06-13T08:01:06.884777Z",
          "iopub.execute_input": "2025-06-13T08:01:06.886071Z",
          "iopub.status.idle": "2025-06-13T08:01:07.087575Z",
          "shell.execute_reply.started": "2025-06-13T08:01:06.886017Z",
          "shell.execute_reply": "2025-06-13T08:01:07.086497Z"
        },
        "id": "Z1VyBkV-bxok"
      },
      "outputs": [],
      "execution_count": null
    },
    {
      "cell_type": "markdown",
      "source": [
        "🧭 Step 2: Detecting Outliers Using Z-Score\n",
        "A boxplot shows the minimum, lower quartile (Q1), median, upper quartile (Q3), and maximum values, highlighting outliers as dots.\n",
        "\n",
        "Interpretation:\n",
        "Data points with a Z-score greater than the threshold (typically 3) are considered outliers.\n",
        "A higher threshold (e.g., 4) detects fewer outliers, while a lower threshold (e.g., 2.5) detects more.\n",
        "💡 Tip: Z-scores work best for normally distributed data. If the data is skewed, consider using IQR instead."
      ],
      "metadata": {
        "id": "cZFWsXH_bxok"
      }
    },
    {
      "cell_type": "code",
      "source": [
        "# Function to detect outliers using Z-score\n",
        "from scipy.stats import zscore\n",
        "\n",
        "def detect_outliers_zscore(data, threshold=3):\n",
        "    z_scores = zscore(data.dropna())  # Drop NaN to avoid errors\n",
        "    outliers = data[(abs(z_scores) > threshold)]\n",
        "    return outliers\n",
        "\n",
        "# Detect outliers in the 'Age' column\n",
        "outliers_age = detect_outliers_zscore(train['Age'])\n",
        "print(f'Number of outliers in Age: {len(outliers_age)}')"
      ],
      "metadata": {
        "trusted": true,
        "execution": {
          "iopub.status.busy": "2025-06-13T08:03:07.751848Z",
          "iopub.execute_input": "2025-06-13T08:03:07.75311Z",
          "iopub.status.idle": "2025-06-13T08:03:07.761357Z",
          "shell.execute_reply.started": "2025-06-13T08:03:07.753069Z",
          "shell.execute_reply": "2025-06-13T08:03:07.760417Z"
        },
        "id": "MqIJeXNpbxok"
      },
      "outputs": [],
      "execution_count": null
    },
    {
      "cell_type": "markdown",
      "source": [
        "🧭 Step 3: Detecting Outliers Using IQR (Interquartile Range)¶\n",
        "The IQR method identifies outliers as data points that fall below Q1 - 1.5 IQR or above Q3 + 1.5 IQR:\n",
        "\n",
        "Interpretation:\n",
        "Lower bound: Q1 - 1.5 * IQR (minimum expected value).\n",
        "Upper bound: Q3 + 1.5 * IQR (maximum expected value).\n",
        "Data points outside this range are considered outliers."
      ],
      "metadata": {
        "id": "X0Pg2IQ2bxok"
      }
    },
    {
      "cell_type": "code",
      "source": [
        "# Function to detect outliers using IQR\n",
        "def detect_outliers_iqr(data):\n",
        "    Q1 = data.quantile(0.25)\n",
        "    Q3 = data.quantile(0.75)\n",
        "    IQR = Q3 - Q1\n",
        "    lower_bound = Q1 - 1.5 * IQR\n",
        "    upper_bound = Q3 + 1.5 * IQR\n",
        "    outliers = data[(data < lower_bound) | (data > upper_bound)]\n",
        "    return outliers\n",
        "\n",
        "# Detect outliers in the 'Fare' column using IQR\n",
        "outliers_fare = detect_outliers_iqr(train['Fare'])\n",
        "print(f'Number of outliers in Fare: {len(outliers_fare)}')"
      ],
      "metadata": {
        "trusted": true,
        "execution": {
          "iopub.status.busy": "2025-06-13T08:05:10.699357Z",
          "iopub.execute_input": "2025-06-13T08:05:10.699679Z",
          "iopub.status.idle": "2025-06-13T08:05:10.709374Z",
          "shell.execute_reply.started": "2025-06-13T08:05:10.699655Z",
          "shell.execute_reply": "2025-06-13T08:05:10.708488Z"
        },
        "id": "Dt5edUyjbxol"
      },
      "outputs": [],
      "execution_count": null
    },
    {
      "cell_type": "markdown",
      "source": [
        "🧭 Step 4: Handling Outliers¶\n",
        "Once outliers are detected, you can handle them using the following approaches:\n",
        "\n",
        "Remove Outliers: Remove rows containing outliers\n",
        "Cap Outliers: Cap values at the upper and lower bounds\n",
        "Impute Outliers: Replace outliers with mean or median values\n",
        "Leave Outliers: In some cases (e.g., fraud detection, rare event analysis), outliers contain meaningful information and should be kept."
      ],
      "metadata": {
        "id": "m08wWeCGbxol"
      }
    },
    {
      "cell_type": "code",
      "source": [
        "# Remove outliers in the 'Fare' column\n",
        "#train = train[(df['Fare'] >= train['Fare'].quantile(0.25) - 1.5 * (train['Fare'].quantile(0.75) - train['Fare'].quantile(0.25))) &\n",
        "        #(train['Fare'] <= train['Fare'].quantile(0.75) + 1.5 * (train['Fare'].quantile(0.75) - train['Fare'].quantile(0.25)))]"
      ],
      "metadata": {
        "trusted": true,
        "execution": {
          "iopub.status.busy": "2025-06-13T08:07:03.468368Z",
          "iopub.execute_input": "2025-06-13T08:07:03.468672Z",
          "iopub.status.idle": "2025-06-13T08:07:03.472853Z",
          "shell.execute_reply.started": "2025-06-13T08:07:03.468649Z",
          "shell.execute_reply": "2025-06-13T08:07:03.472046Z"
        },
        "id": "8GRBxdXubxol"
      },
      "outputs": [],
      "execution_count": null
    },
    {
      "cell_type": "code",
      "source": [
        "# Cap outliers in the 'Fare' column\n",
        "#train['Fare'] = train['Fare'].clip(lower=train['Fare'].quantile(0.05), upper=train['Fare'].quantile(0.95))"
      ],
      "metadata": {
        "trusted": true,
        "execution": {
          "iopub.status.busy": "2025-06-13T08:07:39.993747Z",
          "iopub.execute_input": "2025-06-13T08:07:39.994586Z",
          "iopub.status.idle": "2025-06-13T08:07:39.999748Z",
          "shell.execute_reply.started": "2025-06-13T08:07:39.994552Z",
          "shell.execute_reply": "2025-06-13T08:07:39.998736Z"
        },
        "id": "uvYKLY-Rbxol"
      },
      "outputs": [],
      "execution_count": null
    },
    {
      "cell_type": "markdown",
      "source": [],
      "metadata": {
        "id": "YCxRUJi6bxol"
      }
    },
    {
      "cell_type": "code",
      "source": [
        "# Impute outliers with the median\n",
        "#train['Fare'] = train['Fare'].mask((train['Fare'] < train['Fare'].quantile(0.05)) | (train['Fare'] > train['Fare'].quantile(0.95)), train['Fare'].median())"
      ],
      "metadata": {
        "trusted": true,
        "execution": {
          "iopub.status.busy": "2025-06-13T08:07:56.112789Z",
          "iopub.execute_input": "2025-06-13T08:07:56.113162Z",
          "iopub.status.idle": "2025-06-13T08:07:56.117384Z",
          "shell.execute_reply.started": "2025-06-13T08:07:56.113135Z",
          "shell.execute_reply": "2025-06-13T08:07:56.11627Z"
        },
        "id": "1W6fA955bxol"
      },
      "outputs": [],
      "execution_count": null
    },
    {
      "cell_type": "markdown",
      "source": [
        "\n",
        "STEP 5: EXPLORING THE TARGET VARIABLE – UNDERSTANDING ‘SURVIVED’\n",
        "\n",
        "🎯 What Is Target Variable Exploration?\n",
        "In the Titanic dataset, the target variable is Survived, which indicates whether a passenger lived (1) or died (0). Analyzing this variable is crucial as it helps:\n",
        "•\tDetermine whether the dataset is balanced or imbalanced.\n",
        "•\tIdentify patterns or factors (e.g., age, gender, class, embarkation point) that may influence survival.\n",
        "\n",
        "🧭 Step 1: Visualizing the Distribution of ‘Survived’\n",
        "1. Countplot\n",
        "A countplot is effective for displaying the frequency of each class in a categorical variable—perfect for a binary target like Survived.\n",
        "Interpretation:\n",
        "•\tThe height of each bar represents the number of passengers who survived (1) or didn’t (0).\n",
        "•\tA significant difference in bar heights suggests a class imbalance, which could impact model training and evaluation.\n",
        "💡 Tip: When dealing with imbalanced classes in machine learning, consider strategies such as resampling, or use metrics like F1-score, precision, and recall, instead of relying solely on accuracy.\n",
        "\n",
        "\n"
      ],
      "metadata": {
        "id": "OsT4dRHwbxol"
      }
    },
    {
      "cell_type": "code",
      "source": [
        "# Countplot for Survived\n",
        "plt.figure(figsize=(8, 5))\n",
        "sns.countplot(x='Survived', data=train, palette='Set2')\n",
        "plt.title('Survival Count')\n",
        "plt.xlabel('Survived (0 = No, 1 = Yes)')\n",
        "plt.ylabel('Count')\n",
        "plt.show()"
      ],
      "metadata": {
        "trusted": true,
        "execution": {
          "iopub.status.busy": "2025-06-13T08:17:08.295404Z",
          "iopub.execute_input": "2025-06-13T08:17:08.295811Z",
          "iopub.status.idle": "2025-06-13T08:17:08.486767Z",
          "shell.execute_reply.started": "2025-06-13T08:17:08.29578Z",
          "shell.execute_reply": "2025-06-13T08:17:08.485757Z"
        },
        "id": "rny2dSAlbxol"
      },
      "outputs": [],
      "execution_count": null
    },
    {
      "cell_type": "markdown",
      "source": [
        "🧭 Step 2: Survival Rate by numerical columns¶\n",
        "Let’s visualize survival rates across different age groups using KDE plots:\n",
        "\n",
        "Interpretation:\n",
        "The green curve shows the distribution of ages for survivors, while the red curve shows ages for non-survivors.\n",
        "Peaks in the curves indicate common age ranges for each group.\n",
        "Younger passengers may have had a higher survival rate, following the \"women and children first\" rule.\n",
        "💡 Tip: If you see missing values for Age, consider imputing them before plotting"
      ],
      "metadata": {
        "id": "MD4IuFxabxom"
      }
    },
    {
      "cell_type": "code",
      "source": [
        "# KDE Plot for Age by Survival Status\n",
        "plt.figure(figsize=(8, 5))\n",
        "sns.kdeplot(train[train['Survived'] == 1]['Age'], shade=True, label='Survived', color='green')\n",
        "sns.kdeplot(train[train['Survived'] == 0]['Age'], shade=True, label='Did Not Survive', color='red')\n",
        "plt.title('Age Distribution by Survival Status')\n",
        "plt.xlabel('Age')\n",
        "plt.legend()\n",
        "plt.show()"
      ],
      "metadata": {
        "trusted": true,
        "execution": {
          "iopub.status.busy": "2025-06-13T08:18:50.455658Z",
          "iopub.execute_input": "2025-06-13T08:18:50.456111Z",
          "iopub.status.idle": "2025-06-13T08:18:50.80785Z",
          "shell.execute_reply.started": "2025-06-13T08:18:50.456083Z",
          "shell.execute_reply": "2025-06-13T08:18:50.806864Z"
        },
        "id": "T6p48QGkbxom"
      },
      "outputs": [],
      "execution_count": null
    },
    {
      "cell_type": "markdown",
      "source": [
        "🧭 Step 3: Survival Rate by categorical columns\n",
        "Survival rates may differ significantly between males and females. Let’s visualize this relationship:\n",
        "\n",
        "Interpretation:\n",
        "The plot shows survival counts grouped by gender.\n",
        "Titanic survival famously followed the \"women and children first\" protocol, so you may see higher survival rates for females.\n",
        "💡 Calculation Tip: You can calculate the survival rate for each gender."
      ],
      "metadata": {
        "id": "gRWU1IPAbxom"
      }
    },
    {
      "cell_type": "code",
      "source": [
        "# Countplot for Survived grouped by Gender\n",
        "plt.figure(figsize=(8, 5))\n",
        "sns.countplot(x='Survived', hue='Sex', data=train, palette='muted')\n",
        "plt.title('Survival Rate by Gender')\n",
        "plt.xlabel('Survived (0 = No, 1 = Yes)')\n",
        "plt.ylabel('Count')\n",
        "plt.show()"
      ],
      "metadata": {
        "trusted": true,
        "execution": {
          "iopub.status.busy": "2025-06-13T08:20:38.006496Z",
          "iopub.execute_input": "2025-06-13T08:20:38.006798Z",
          "iopub.status.idle": "2025-06-13T08:20:38.20734Z",
          "shell.execute_reply.started": "2025-06-13T08:20:38.006775Z",
          "shell.execute_reply": "2025-06-13T08:20:38.206407Z"
        },
        "id": "VoEgixuCbxom"
      },
      "outputs": [],
      "execution_count": null
    },
    {
      "cell_type": "code",
      "source": [
        "# Calculate survival rate by gender\n",
        "gender_survival_rate = train.groupby('Sex')['Survived'].apply(lambda x: (x == 1).mean() * 100)\n",
        "print(gender_survival_rate)"
      ],
      "metadata": {
        "trusted": true,
        "execution": {
          "iopub.status.busy": "2025-06-13T08:21:49.206839Z",
          "iopub.execute_input": "2025-06-13T08:21:49.207302Z",
          "iopub.status.idle": "2025-06-13T08:21:49.216438Z",
          "shell.execute_reply.started": "2025-06-13T08:21:49.207277Z",
          "shell.execute_reply": "2025-06-13T08:21:49.215347Z"
        },
        "id": "URkzeHocbxom"
      },
      "outputs": [],
      "execution_count": null
    },
    {
      "cell_type": "markdown",
      "source": [
        "🧭 Step 3: Combined Analysis (Gender, Class, and Survival)\n",
        "To explore survival rates based on multiple variables at once (e.g., gender and passenger class):\n",
        "\n",
        "Interpretation:\n",
        "This plot shows survival counts broken down by gender and passenger class. Look for patterns like:\n",
        "\n",
        "High survival counts for first-class females.\n",
        "Low survival counts for third-class males."
      ],
      "metadata": {
        "id": "Wm4TKU1Gbxom"
      }
    },
    {
      "cell_type": "code",
      "source": [
        "# Grouped bar plot for survival by Gender and Class\n",
        "plt.figure(figsize=(10, 6))\n",
        "sns.countplot(x='Pclass', hue='Sex', data=train[train['Survived'] == 1], palette='Set1')\n",
        "plt.title('Survivors by Gender and Class')\n",
        "plt.xlabel('Passenger Class')\n",
        "plt.ylabel('Survivor Count')\n",
        "plt.show()"
      ],
      "metadata": {
        "trusted": true,
        "execution": {
          "iopub.status.busy": "2025-06-13T08:24:12.671136Z",
          "iopub.execute_input": "2025-06-13T08:24:12.671476Z",
          "iopub.status.idle": "2025-06-13T08:24:12.889002Z",
          "shell.execute_reply.started": "2025-06-13T08:24:12.671447Z",
          "shell.execute_reply": "2025-06-13T08:24:12.888173Z"
        },
        "id": "cYJXmtvWbxom"
      },
      "outputs": [],
      "execution_count": null
    },
    {
      "cell_type": "code",
      "source": [],
      "metadata": {
        "trusted": true,
        "id": "0F7GLrg0bxom"
      },
      "outputs": [],
      "execution_count": null
    }
  ]
}